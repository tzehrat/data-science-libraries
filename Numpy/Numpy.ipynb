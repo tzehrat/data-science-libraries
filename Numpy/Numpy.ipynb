{
 "cells": [
  {
   "cell_type": "code",
   "execution_count": 2,
   "id": "00e2cc22-a56a-4c44-a227-ad9906c26aa0",
   "metadata": {},
   "outputs": [],
   "source": [
    "import numpy as np"
   ]
  },
  {
   "cell_type": "markdown",
   "id": "a094cbef-ee1f-44bd-a81d-0ecf47b4f514",
   "metadata": {},
   "source": [
    "## Numpy Arrays"
   ]
  },
  {
   "cell_type": "code",
   "execution_count": 5,
   "id": "ca2048ca-b091-46c1-8c27-9806ddd06dbb",
   "metadata": {},
   "outputs": [],
   "source": [
    "myList=[20,30,40]"
   ]
  },
  {
   "cell_type": "code",
   "execution_count": 9,
   "id": "f43de055-a436-458b-a481-eea35fa162b8",
   "metadata": {},
   "outputs": [
    {
     "data": {
      "text/plain": [
       "array([20, 30, 40])"
      ]
     },
     "execution_count": 9,
     "metadata": {},
     "output_type": "execute_result"
    }
   ],
   "source": [
    "np.array(myList)  # list to array"
   ]
  },
  {
   "cell_type": "code",
   "execution_count": 12,
   "id": "53ac47c5-e788-407f-a695-66a93bcb3a83",
   "metadata": {},
   "outputs": [],
   "source": [
    "matrixList=[[10,23,47],[214,25,63],[4,34,23]]"
   ]
  },
  {
   "cell_type": "code",
   "execution_count": 16,
   "id": "6d19ff74-2b8b-4270-ad5d-c198fe7aaf28",
   "metadata": {},
   "outputs": [
    {
     "data": {
      "text/plain": [
       "25"
      ]
     },
     "execution_count": 16,
     "metadata": {},
     "output_type": "execute_result"
    }
   ],
   "source": [
    "matrixList[1][1]"
   ]
  },
  {
   "cell_type": "code",
   "execution_count": 20,
   "id": "6b746061-abcf-49bb-9afb-ab6381ddfe31",
   "metadata": {},
   "outputs": [
    {
     "data": {
      "text/plain": [
       "array([[ 10,  23,  47],\n",
       "       [214,  25,  63],\n",
       "       [  4,  34,  23]])"
      ]
     },
     "execution_count": 20,
     "metadata": {},
     "output_type": "execute_result"
    }
   ],
   "source": [
    "np.array(matrixList) # list to matrix"
   ]
  },
  {
   "cell_type": "markdown",
   "id": "27bf159c-dce1-4f4e-9002-7bab64424f60",
   "metadata": {},
   "source": [
    "## arange"
   ]
  },
  {
   "cell_type": "code",
   "execution_count": 23,
   "id": "75eb71ff-5af1-4f8d-9cbf-52bc9c86924b",
   "metadata": {},
   "outputs": [
    {
     "data": {
      "text/plain": [
       "array([0, 1, 2, 3, 4, 5, 6, 7, 8, 9])"
      ]
     },
     "execution_count": 23,
     "metadata": {},
     "output_type": "execute_result"
    }
   ],
   "source": [
    "np.arange(0,10)"
   ]
  },
  {
   "cell_type": "code",
   "execution_count": 25,
   "id": "ae27c7b6-07c0-418a-827a-d8c0a6470916",
   "metadata": {},
   "outputs": [
    {
     "data": {
      "text/plain": [
       "array([0, 2, 4, 6, 8])"
      ]
     },
     "execution_count": 25,
     "metadata": {},
     "output_type": "execute_result"
    }
   ],
   "source": [
    "np.arange(0,10,2) # step-size"
   ]
  },
  {
   "cell_type": "markdown",
   "id": "e2e29d42-d595-4c8a-9df1-961228067445",
   "metadata": {},
   "source": [
    "## Zeros"
   ]
  },
  {
   "cell_type": "code",
   "execution_count": 28,
   "id": "7dd726f7-077a-49c6-8a3b-66077476cc7d",
   "metadata": {},
   "outputs": [
    {
     "data": {
      "text/plain": [
       "array([0., 0., 0., 0., 0., 0., 0., 0., 0.])"
      ]
     },
     "execution_count": 28,
     "metadata": {},
     "output_type": "execute_result"
    }
   ],
   "source": [
    "np.zeros(9)"
   ]
  },
  {
   "cell_type": "code",
   "execution_count": 41,
   "id": "7896a507-e18d-4671-aaa5-f503377d170d",
   "metadata": {},
   "outputs": [
    {
     "data": {
      "text/plain": [
       "array([[0., 0.],\n",
       "       [0., 0.]])"
      ]
     },
     "execution_count": 41,
     "metadata": {},
     "output_type": "execute_result"
    }
   ],
   "source": [
    "np.zeros((2,2)) # array to matrix"
   ]
  },
  {
   "cell_type": "markdown",
   "id": "ca929b85-d250-453e-aa08-fc96199c2a55",
   "metadata": {},
   "source": [
    "## Ones"
   ]
  },
  {
   "cell_type": "code",
   "execution_count": 44,
   "id": "d125a9c5-3afd-4410-8d70-8afd72b33370",
   "metadata": {},
   "outputs": [
    {
     "data": {
      "text/plain": [
       "array([1., 1., 1., 1.])"
      ]
     },
     "execution_count": 44,
     "metadata": {},
     "output_type": "execute_result"
    }
   ],
   "source": [
    "np.ones(4)"
   ]
  },
  {
   "cell_type": "code",
   "execution_count": 46,
   "id": "04fb3ecb-6b4c-4601-bc68-535c0fb2dd0d",
   "metadata": {},
   "outputs": [
    {
     "data": {
      "text/plain": [
       "array([[1., 1.],\n",
       "       [1., 1.],\n",
       "       [1., 1.]])"
      ]
     },
     "execution_count": 46,
     "metadata": {},
     "output_type": "execute_result"
    }
   ],
   "source": [
    "np.ones((3,2)) ## array to matrix"
   ]
  },
  {
   "cell_type": "markdown",
   "id": "95022796-02db-4efe-a566-974621f7a7d2",
   "metadata": {},
   "source": [
    "## Linspace"
   ]
  },
  {
   "cell_type": "code",
   "execution_count": 51,
   "id": "91832d18-8b6f-4a6a-a3f9-ffb8b8688b20",
   "metadata": {},
   "outputs": [
    {
     "data": {
      "text/plain": [
       "array([ 0., 10., 20.])"
      ]
     },
     "execution_count": 51,
     "metadata": {},
     "output_type": "execute_result"
    }
   ],
   "source": [
    "np.linspace(0,20,3) #Create 3 equidistant numbers from 0 to 20"
   ]
  },
  {
   "cell_type": "code",
   "execution_count": 53,
   "id": "51499e09-ba42-4198-8143-ff69eaae7ec9",
   "metadata": {},
   "outputs": [
    {
     "data": {
      "text/plain": [
       "array([  3. ,  91.6, 180.2, 268.8, 357.4, 446. ])"
      ]
     },
     "execution_count": 53,
     "metadata": {},
     "output_type": "execute_result"
    }
   ],
   "source": [
    "np.linspace(3,446,6)  "
   ]
  },
  {
   "cell_type": "markdown",
   "id": "d77ab183-2762-483d-bd2b-07679d4b0527",
   "metadata": {},
   "source": [
    "## Eye"
   ]
  },
  {
   "cell_type": "code",
   "execution_count": 58,
   "id": "a81fa666-cd2f-4a3d-8ddf-7a502c177fe8",
   "metadata": {},
   "outputs": [
    {
     "data": {
      "text/plain": [
       "array([[1., 0., 0., 0., 0., 0., 0.],\n",
       "       [0., 1., 0., 0., 0., 0., 0.],\n",
       "       [0., 0., 1., 0., 0., 0., 0.],\n",
       "       [0., 0., 0., 1., 0., 0., 0.],\n",
       "       [0., 0., 0., 0., 1., 0., 0.],\n",
       "       [0., 0., 0., 0., 0., 1., 0.],\n",
       "       [0., 0., 0., 0., 0., 0., 1.]])"
      ]
     },
     "execution_count": 58,
     "metadata": {},
     "output_type": "execute_result"
    }
   ],
   "source": [
    "np.eye(7)  # create identity matrix"
   ]
  },
  {
   "cell_type": "markdown",
   "id": "87963019-11a7-4efb-a7cb-7e7cf116ced1",
   "metadata": {},
   "source": [
    "## Random"
   ]
  },
  {
   "cell_type": "code",
   "execution_count": 61,
   "id": "2dd323bb-8d13-4f04-b696-2c05e5e66e5a",
   "metadata": {},
   "outputs": [
    {
     "data": {
      "text/plain": [
       "array([ 3.68990301, -0.48923306,  0.29706137, -0.55630537, -0.70367411])"
      ]
     },
     "execution_count": 61,
     "metadata": {},
     "output_type": "execute_result"
    }
   ],
   "source": [
    "np.random.randn(5) # gives 5 random numbers"
   ]
  },
  {
   "cell_type": "code",
   "execution_count": 63,
   "id": "0bfb5bf4-baa7-46ee-ab46-3a8ccaa1b1a0",
   "metadata": {},
   "outputs": [
    {
     "data": {
      "text/plain": [
       "array([[ 0.47961468,  0.60444807,  0.2982232 ,  0.86533163],\n",
       "       [ 1.18938567,  0.27606441,  1.76867226, -1.39373761],\n",
       "       [ 0.56199437, -0.115645  ,  0.16383111, -0.83720107],\n",
       "       [-0.51535096,  1.71466924, -0.80840612,  0.70350532]])"
      ]
     },
     "execution_count": 63,
     "metadata": {},
     "output_type": "execute_result"
    }
   ],
   "source": [
    "np.random.randn(4,4)"
   ]
  },
  {
   "cell_type": "code",
   "execution_count": 65,
   "id": "5b0f2db9-6f90-41da-81a9-17a7e12200f4",
   "metadata": {},
   "outputs": [
    {
     "data": {
      "text/plain": [
       "9"
      ]
     },
     "execution_count": 65,
     "metadata": {},
     "output_type": "execute_result"
    }
   ],
   "source": [
    "np.random.randint(1,10) # gives random numvber between 1-10"
   ]
  },
  {
   "cell_type": "code",
   "execution_count": 67,
   "id": "85674c9f-4c3f-42ae-ad84-9b13795a5927",
   "metadata": {},
   "outputs": [
    {
     "data": {
      "text/plain": [
       "array([7, 8, 6, 6, 3])"
      ]
     },
     "execution_count": 67,
     "metadata": {},
     "output_type": "execute_result"
    }
   ],
   "source": [
    "np.random.randint(1,10,5)"
   ]
  },
  {
   "cell_type": "code",
   "execution_count": 71,
   "id": "02d923fc-a3c7-4e6c-af86-68a0def84c00",
   "metadata": {},
   "outputs": [],
   "source": [
    "myNumpyArray=np.arange(30)"
   ]
  },
  {
   "cell_type": "code",
   "execution_count": 73,
   "id": "07b701cc-f115-4d71-8153-5a3923f4298b",
   "metadata": {},
   "outputs": [
    {
     "data": {
      "text/plain": [
       "array([ 0,  1,  2,  3,  4,  5,  6,  7,  8,  9, 10, 11, 12, 13, 14, 15, 16,\n",
       "       17, 18, 19, 20, 21, 22, 23, 24, 25, 26, 27, 28, 29])"
      ]
     },
     "execution_count": 73,
     "metadata": {},
     "output_type": "execute_result"
    }
   ],
   "source": [
    "myNumpyArray\n"
   ]
  },
  {
   "cell_type": "code",
   "execution_count": 75,
   "id": "078b22e9-08f6-4ddb-ae5e-eb80df271748",
   "metadata": {},
   "outputs": [],
   "source": [
    "myRandomArray=np.random.randint(0,100,50)"
   ]
  },
  {
   "cell_type": "code",
   "execution_count": 77,
   "id": "20ec24ef-5ae4-4e14-b66e-6f97d24f1de8",
   "metadata": {},
   "outputs": [
    {
     "data": {
      "text/plain": [
       "array([60, 53, 15, 56, 24, 13, 12, 94, 20, 95, 36, 23, 15, 45,  6,  0, 31,\n",
       "       45,  5, 81, 25, 37, 33,  7, 88,  7, 51, 90,  8, 36, 85, 31, 69, 50,\n",
       "       95, 52, 85, 95, 47, 35, 32, 70, 90, 20, 62, 96,  6, 19, 83, 16])"
      ]
     },
     "execution_count": 77,
     "metadata": {},
     "output_type": "execute_result"
    }
   ],
   "source": [
    "myRandomArray"
   ]
  },
  {
   "cell_type": "markdown",
   "id": "6e8b72e4-ff4a-45c8-b887-142316f3543a",
   "metadata": {},
   "source": [
    "## Numpy Array Methods"
   ]
  },
  {
   "cell_type": "code",
   "execution_count": 82,
   "id": "a694c909-5294-488f-a08f-4e03a7094e97",
   "metadata": {},
   "outputs": [
    {
     "data": {
      "text/plain": [
       "array([[ 0,  1,  2,  3,  4,  5],\n",
       "       [ 6,  7,  8,  9, 10, 11],\n",
       "       [12, 13, 14, 15, 16, 17],\n",
       "       [18, 19, 20, 21, 22, 23],\n",
       "       [24, 25, 26, 27, 28, 29]])"
      ]
     },
     "execution_count": 82,
     "metadata": {},
     "output_type": "execute_result"
    }
   ],
   "source": [
    "myNumpyArray.reshape(5,6) ## reshape your array"
   ]
  },
  {
   "cell_type": "code",
   "execution_count": 86,
   "id": "77a484a6-8508-4ebb-a64f-709359d5df71",
   "metadata": {},
   "outputs": [
    {
     "data": {
      "text/plain": [
       "29"
      ]
     },
     "execution_count": 86,
     "metadata": {},
     "output_type": "execute_result"
    }
   ],
   "source": [
    "myNumpyArray.max()"
   ]
  },
  {
   "cell_type": "code",
   "execution_count": 100,
   "id": "b83c9b55-c6e8-4e65-91e5-eb97b3ca8149",
   "metadata": {},
   "outputs": [
    {
     "data": {
      "text/plain": [
       "96"
      ]
     },
     "execution_count": 100,
     "metadata": {},
     "output_type": "execute_result"
    }
   ],
   "source": [
    "myRandomArray.max()\n"
   ]
  },
  {
   "cell_type": "code",
   "execution_count": 94,
   "id": "eaa883fa-07ca-4d7c-a9ce-f90a8dfb55e6",
   "metadata": {},
   "outputs": [
    {
     "data": {
      "text/plain": [
       "45"
      ]
     },
     "execution_count": 94,
     "metadata": {},
     "output_type": "execute_result"
    }
   ],
   "source": [
    "myRandomArray.argmax() # index of max item"
   ]
  },
  {
   "cell_type": "code",
   "execution_count": 102,
   "id": "949f671c-5c13-49b4-a266-dd0c7b02b915",
   "metadata": {},
   "outputs": [
    {
     "data": {
      "text/plain": [
       "29"
      ]
     },
     "execution_count": 102,
     "metadata": {},
     "output_type": "execute_result"
    }
   ],
   "source": [
    "myNumpyArray.argmax()"
   ]
  },
  {
   "cell_type": "code",
   "execution_count": 108,
   "id": "fe4cb5b5-bc53-4851-8ec5-a90df442cfac",
   "metadata": {},
   "outputs": [],
   "source": [
    "reshapeArray=myNumpyArray.reshape(3,10)"
   ]
  },
  {
   "cell_type": "code",
   "execution_count": 110,
   "id": "b628d4d0-1843-4983-9969-49c06e1ac6b6",
   "metadata": {},
   "outputs": [
    {
     "data": {
      "text/plain": [
       "array([[ 0,  1,  2,  3,  4,  5,  6,  7,  8,  9],\n",
       "       [10, 11, 12, 13, 14, 15, 16, 17, 18, 19],\n",
       "       [20, 21, 22, 23, 24, 25, 26, 27, 28, 29]])"
      ]
     },
     "execution_count": 110,
     "metadata": {},
     "output_type": "execute_result"
    }
   ],
   "source": [
    "reshapeArray"
   ]
  },
  {
   "cell_type": "code",
   "execution_count": 114,
   "id": "333432a0-199f-404e-959f-44c3c2c52e37",
   "metadata": {},
   "outputs": [
    {
     "data": {
      "text/plain": [
       "(3, 10)"
      ]
     },
     "execution_count": 114,
     "metadata": {},
     "output_type": "execute_result"
    }
   ],
   "source": [
    "reshapeArray.shape # learn shape of array"
   ]
  },
  {
   "cell_type": "code",
   "execution_count": null,
   "id": "dbaf22c8-a9bc-4f6c-9b40-102677bb4ecd",
   "metadata": {},
   "outputs": [],
   "source": []
  }
 ],
 "metadata": {
  "kernelspec": {
   "display_name": "Python 3 (ipykernel)",
   "language": "python",
   "name": "python3"
  },
  "language_info": {
   "codemirror_mode": {
    "name": "ipython",
    "version": 3
   },
   "file_extension": ".py",
   "mimetype": "text/x-python",
   "name": "python",
   "nbconvert_exporter": "python",
   "pygments_lexer": "ipython3",
   "version": "3.12.7"
  }
 },
 "nbformat": 4,
 "nbformat_minor": 5
}
