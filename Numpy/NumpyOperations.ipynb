{
 "cells": [
  {
   "cell_type": "code",
   "execution_count": 1,
   "id": "dadd77c5-1ff2-4d7e-96ce-aa7875c7d2a9",
   "metadata": {},
   "outputs": [],
   "source": [
    "import numpy as np"
   ]
  },
  {
   "cell_type": "code",
   "execution_count": 5,
   "id": "8533050b-145b-4f30-89e1-5502e8246122",
   "metadata": {},
   "outputs": [],
   "source": [
    "myArray=np.arange(0,12)"
   ]
  },
  {
   "cell_type": "code",
   "execution_count": 13,
   "id": "c7e7dca1-10df-4b98-8c54-dfe5c8116ff7",
   "metadata": {},
   "outputs": [
    {
     "data": {
      "text/plain": [
       "array([ 0,  1,  2,  3,  4,  5,  6,  7,  8,  9, 10, 11])"
      ]
     },
     "execution_count": 13,
     "metadata": {},
     "output_type": "execute_result"
    }
   ],
   "source": [
    "myArray"
   ]
  },
  {
   "cell_type": "code",
   "execution_count": 15,
   "id": "a7a93a48-744a-461e-95b2-599ac44429d3",
   "metadata": {},
   "outputs": [
    {
     "data": {
      "text/plain": [
       "5"
      ]
     },
     "execution_count": 15,
     "metadata": {},
     "output_type": "execute_result"
    }
   ],
   "source": [
    "myArray[5]"
   ]
  },
  {
   "cell_type": "code",
   "execution_count": 17,
   "id": "27dd355a-c363-4e54-b0a5-d3043bf3844c",
   "metadata": {},
   "outputs": [
    {
     "data": {
      "text/plain": [
       "array([3, 4, 5])"
      ]
     },
     "execution_count": 17,
     "metadata": {},
     "output_type": "execute_result"
    }
   ],
   "source": [
    "myArray[3:6]"
   ]
  },
  {
   "cell_type": "code",
   "execution_count": 19,
   "id": "eb36118d-4114-453c-b1c0-ecfc64d3dd46",
   "metadata": {},
   "outputs": [],
   "source": [
    "myArray[3:8]=-5"
   ]
  },
  {
   "cell_type": "code",
   "execution_count": 21,
   "id": "62ba676d-9ec7-400f-b5cb-73bcb1619fae",
   "metadata": {},
   "outputs": [
    {
     "data": {
      "text/plain": [
       "array([ 0,  1,  2, -5, -5, -5, -5, -5,  8,  9, 10, 11])"
      ]
     },
     "execution_count": 21,
     "metadata": {},
     "output_type": "execute_result"
    }
   ],
   "source": [
    "myArray"
   ]
  },
  {
   "cell_type": "code",
   "execution_count": 23,
   "id": "ac7c32bd-d9d0-4638-a1ac-ea5022582b17",
   "metadata": {},
   "outputs": [],
   "source": [
    "anotherArray=np.arange(0,24)"
   ]
  },
  {
   "cell_type": "code",
   "execution_count": 25,
   "id": "77abd013-4f7e-4200-bf8c-19c5c8322e86",
   "metadata": {},
   "outputs": [
    {
     "data": {
      "text/plain": [
       "array([ 0,  1,  2,  3,  4,  5,  6,  7,  8,  9, 10, 11, 12, 13, 14, 15, 16,\n",
       "       17, 18, 19, 20, 21, 22, 23])"
      ]
     },
     "execution_count": 25,
     "metadata": {},
     "output_type": "execute_result"
    }
   ],
   "source": [
    "anotherArray"
   ]
  },
  {
   "cell_type": "code",
   "execution_count": 37,
   "id": "ae87f8d5-36cd-415b-b8b4-450dd8f3c5ca",
   "metadata": {},
   "outputs": [],
   "source": [
    "slicingArray=anotherArray[2:8]"
   ]
  },
  {
   "cell_type": "code",
   "execution_count": 39,
   "id": "c0b94279-3c5a-4f09-a27d-4c86dff18593",
   "metadata": {},
   "outputs": [
    {
     "data": {
      "text/plain": [
       "array([2, 3, 4, 5, 6, 7])"
      ]
     },
     "execution_count": 39,
     "metadata": {},
     "output_type": "execute_result"
    }
   ],
   "source": [
    "slicingArray"
   ]
  },
  {
   "cell_type": "code",
   "execution_count": 41,
   "id": "59ebfb70-5579-491b-804e-3c20dcaaa105",
   "metadata": {},
   "outputs": [],
   "source": [
    "slicingArray[:]=700"
   ]
  },
  {
   "cell_type": "code",
   "execution_count": 43,
   "id": "4bde9196-9287-4e86-b059-33aa4ef2874d",
   "metadata": {},
   "outputs": [
    {
     "data": {
      "text/plain": [
       "array([700, 700, 700, 700, 700, 700])"
      ]
     },
     "execution_count": 43,
     "metadata": {},
     "output_type": "execute_result"
    }
   ],
   "source": [
    "slicingArray"
   ]
  },
  {
   "cell_type": "code",
   "execution_count": 45,
   "id": "4c11828b-753c-426c-99af-908226658952",
   "metadata": {},
   "outputs": [
    {
     "data": {
      "text/plain": [
       "array([  0,   1, 700, 700, 700, 700, 700, 700,   8,   9,  10,  11,  12,\n",
       "        13,  14,  15,  16,  17,  18,  19,  20,  21,  22,  23])"
      ]
     },
     "execution_count": 45,
     "metadata": {},
     "output_type": "execute_result"
    }
   ],
   "source": [
    "anotherArray"
   ]
  },
  {
   "cell_type": "code",
   "execution_count": 47,
   "id": "a644a7e7-cb7a-4846-91b6-318f933db382",
   "metadata": {},
   "outputs": [],
   "source": [
    "exampArray=np.arange(0,24)"
   ]
  },
  {
   "cell_type": "code",
   "execution_count": 49,
   "id": "5282a24d-5b85-42aa-8a92-ee3d39d5bb5a",
   "metadata": {},
   "outputs": [
    {
     "data": {
      "text/plain": [
       "array([ 0,  1,  2,  3,  4,  5,  6,  7,  8,  9, 10, 11, 12, 13, 14, 15, 16,\n",
       "       17, 18, 19, 20, 21, 22, 23])"
      ]
     },
     "execution_count": 49,
     "metadata": {},
     "output_type": "execute_result"
    }
   ],
   "source": [
    "exampArray"
   ]
  },
  {
   "cell_type": "code",
   "execution_count": 51,
   "id": "920694b8-86ae-4727-b4a3-b676354ac162",
   "metadata": {},
   "outputs": [],
   "source": [
    "copyArray=exampArray.copy()"
   ]
  },
  {
   "cell_type": "code",
   "execution_count": 53,
   "id": "4af9fb8d-3946-4e76-8d3b-1de2e84f3af3",
   "metadata": {},
   "outputs": [
    {
     "data": {
      "text/plain": [
       "array([ 0,  1,  2,  3,  4,  5,  6,  7,  8,  9, 10, 11, 12, 13, 14, 15, 16,\n",
       "       17, 18, 19, 20, 21, 22, 23])"
      ]
     },
     "execution_count": 53,
     "metadata": {},
     "output_type": "execute_result"
    }
   ],
   "source": [
    "copyArray"
   ]
  },
  {
   "cell_type": "code",
   "execution_count": 67,
   "id": "cc664ff7-571a-482c-af0b-225d35a71fbd",
   "metadata": {},
   "outputs": [],
   "source": [
    "copyArraySlicing=copyArray[3:7]"
   ]
  },
  {
   "cell_type": "code",
   "execution_count": 69,
   "id": "14d2ab17-dce5-45f4-af38-08f543b75404",
   "metadata": {},
   "outputs": [],
   "source": [
    "copyArraySlicing[:]=6575"
   ]
  },
  {
   "cell_type": "code",
   "execution_count": 71,
   "id": "66dad4e8-754a-4d59-861f-3c7a3e9a1ce6",
   "metadata": {},
   "outputs": [
    {
     "data": {
      "text/plain": [
       "array([6575, 6575, 6575, 6575])"
      ]
     },
     "execution_count": 71,
     "metadata": {},
     "output_type": "execute_result"
    }
   ],
   "source": [
    "copyArraySlicing"
   ]
  },
  {
   "cell_type": "code",
   "execution_count": 73,
   "id": "382b80d7-351d-4e1a-b9cf-d3b0756635b1",
   "metadata": {},
   "outputs": [
    {
     "data": {
      "text/plain": [
       "array([   0,    1,    2, 6575, 6575, 6575, 6575,    7,    8,    9,   10,\n",
       "         11,   12,   13,   14,   15,   16,   17,   18,   19,   20,   21,\n",
       "         22,   23])"
      ]
     },
     "execution_count": 73,
     "metadata": {},
     "output_type": "execute_result"
    }
   ],
   "source": [
    "copyArray"
   ]
  },
  {
   "cell_type": "code",
   "execution_count": 75,
   "id": "2c4648ea-1235-466e-b8fe-fb03973b69ac",
   "metadata": {},
   "outputs": [
    {
     "data": {
      "text/plain": [
       "array([ 0,  1,  2,  3,  4,  5,  6,  7,  8,  9, 10, 11, 12, 13, 14, 15, 16,\n",
       "       17, 18, 19, 20, 21, 22, 23])"
      ]
     },
     "execution_count": 75,
     "metadata": {},
     "output_type": "execute_result"
    }
   ],
   "source": [
    "exampArray"
   ]
  },
  {
   "cell_type": "markdown",
   "id": "7285fe92-eed4-4986-969a-f93741f26b5d",
   "metadata": {},
   "source": [
    "## Matrix"
   ]
  },
  {
   "cell_type": "code",
   "execution_count": 109,
   "id": "2dd2e4bd-d69a-4290-8fc8-6c120091ac1b",
   "metadata": {},
   "outputs": [],
   "source": [
    "exampList=np.random.randint(0,100,20)"
   ]
  },
  {
   "cell_type": "code",
   "execution_count": 111,
   "id": "ae0d4df3-e339-474f-81b5-3ded769b112a",
   "metadata": {},
   "outputs": [
    {
     "data": {
      "text/plain": [
       "array([62, 85, 18, 55, 52, 31, 85, 43,  4, 43, 52, 65, 55, 27, 49, 28, 12,\n",
       "       76, 25, 20])"
      ]
     },
     "execution_count": 111,
     "metadata": {},
     "output_type": "execute_result"
    }
   ],
   "source": [
    "exampList"
   ]
  },
  {
   "cell_type": "code",
   "execution_count": 113,
   "id": "6cf2f76d-8be8-46e9-acdd-b19e01bc7274",
   "metadata": {},
   "outputs": [],
   "source": [
    "exampMatrix=exampList.reshape((4,5))"
   ]
  },
  {
   "cell_type": "code",
   "execution_count": 117,
   "id": "4f8fe502-22ed-4b29-8bb9-aeb59031e3f6",
   "metadata": {},
   "outputs": [
    {
     "data": {
      "text/plain": [
       "array([[62, 85, 18, 55, 52],\n",
       "       [31, 85, 43,  4, 43],\n",
       "       [52, 65, 55, 27, 49],\n",
       "       [28, 12, 76, 25, 20]])"
      ]
     },
     "execution_count": 117,
     "metadata": {},
     "output_type": "execute_result"
    }
   ],
   "source": [
    "exampMatrix"
   ]
  },
  {
   "cell_type": "code",
   "execution_count": 115,
   "id": "7cd7f4b7-571e-4d28-8e69-76022c7331d8",
   "metadata": {},
   "outputs": [
    {
     "data": {
      "text/plain": [
       "array([31, 85, 43,  4, 43])"
      ]
     },
     "execution_count": 115,
     "metadata": {},
     "output_type": "execute_result"
    }
   ],
   "source": [
    "exampMatrix[1]"
   ]
  },
  {
   "cell_type": "code",
   "execution_count": 119,
   "id": "9297ef43-ad47-464c-b744-a3d633f7cf36",
   "metadata": {},
   "outputs": [
    {
     "data": {
      "text/plain": [
       "55"
      ]
     },
     "execution_count": 119,
     "metadata": {},
     "output_type": "execute_result"
    }
   ],
   "source": [
    "exampMatrix[2][2]"
   ]
  },
  {
   "cell_type": "code",
   "execution_count": 129,
   "id": "3af683b2-68e6-46b0-b607-2ff56a67ec60",
   "metadata": {},
   "outputs": [
    {
     "data": {
      "text/plain": [
       "array([27, 25])"
      ]
     },
     "execution_count": 129,
     "metadata": {},
     "output_type": "execute_result"
    }
   ],
   "source": [
    "exampMatrix[2:,3]  #Returns the 3rd inx of 2 and later indexes"
   ]
  },
  {
   "cell_type": "code",
   "execution_count": 135,
   "id": "d237e2ed-6a5f-494b-a589-72095ae57b6a",
   "metadata": {},
   "outputs": [
    {
     "data": {
      "text/plain": [
       "array([[27, 49],\n",
       "       [25, 20]])"
      ]
     },
     "execution_count": 135,
     "metadata": {},
     "output_type": "execute_result"
    }
   ],
   "source": [
    "exampMatrix[2:,3:] "
   ]
  },
  {
   "cell_type": "code",
   "execution_count": 149,
   "id": "9be3d2bd-1b7e-4d36-ab07-e00945685293",
   "metadata": {},
   "outputs": [],
   "source": [
    "newList=[[0,1,2,3,4],[5,6,7,8,15],[16,9,10,11,12]]"
   ]
  },
  {
   "cell_type": "code",
   "execution_count": 151,
   "id": "bfda10b4-a154-49c2-baee-db8aead2e26f",
   "metadata": {},
   "outputs": [],
   "source": [
    "newMatrix=np.array(newList)"
   ]
  },
  {
   "cell_type": "code",
   "execution_count": 153,
   "id": "c29bb973-5ba9-424c-b30a-9706c2413f0d",
   "metadata": {},
   "outputs": [
    {
     "data": {
      "text/plain": [
       "array([[ 0,  1,  2,  3,  4],\n",
       "       [ 5,  6,  7,  8, 15],\n",
       "       [16,  9, 10, 11, 12]])"
      ]
     },
     "execution_count": 153,
     "metadata": {},
     "output_type": "execute_result"
    }
   ],
   "source": [
    "newMatrix"
   ]
  },
  {
   "cell_type": "code",
   "execution_count": 165,
   "id": "a7aa32a8-19bf-4557-a762-3c359959c485",
   "metadata": {},
   "outputs": [
    {
     "data": {
      "text/plain": [
       "array([[16,  9, 10, 11, 12],\n",
       "       [ 5,  6,  7,  8, 15]])"
      ]
     },
     "execution_count": 165,
     "metadata": {},
     "output_type": "execute_result"
    }
   ],
   "source": [
    "newMatrix[[2,1]]"
   ]
  },
  {
   "cell_type": "markdown",
   "id": "32422d80-16d9-4f0b-8684-d56d4a6461e3",
   "metadata": {},
   "source": [
    "## Operations"
   ]
  },
  {
   "cell_type": "code",
   "execution_count": 178,
   "id": "876ffd2b-0d6e-4e5f-bf5b-919c322d2ddd",
   "metadata": {},
   "outputs": [],
   "source": [
    "myNewArray=np.random.randint(3,78,20)"
   ]
  },
  {
   "cell_type": "code",
   "execution_count": 180,
   "id": "a2cf0dfe-97b0-414a-8bc8-3796fa7d104e",
   "metadata": {},
   "outputs": [
    {
     "data": {
      "text/plain": [
       "array([10, 20, 45, 35, 72, 34, 74,  8, 55, 11, 55,  9, 27, 37, 44, 60, 64,\n",
       "       19, 43, 16])"
      ]
     },
     "execution_count": 180,
     "metadata": {},
     "output_type": "execute_result"
    }
   ],
   "source": [
    "myNewArray"
   ]
  },
  {
   "cell_type": "code",
   "execution_count": 182,
   "id": "3d5c655e-448a-4d71-9567-e62ff5c49236",
   "metadata": {},
   "outputs": [
    {
     "data": {
      "text/plain": [
       "array([False, False,  True,  True,  True,  True,  True, False,  True,\n",
       "       False,  True, False,  True,  True,  True,  True,  True, False,\n",
       "        True, False])"
      ]
     },
     "execution_count": 182,
     "metadata": {},
     "output_type": "execute_result"
    }
   ],
   "source": [
    "myNewArray>24\n"
   ]
  },
  {
   "cell_type": "code",
   "execution_count": 184,
   "id": "90d7aa2e-cdb5-4e87-ae65-df53db17487c",
   "metadata": {},
   "outputs": [],
   "source": [
    "lastArray=myNewArray>44"
   ]
  },
  {
   "cell_type": "code",
   "execution_count": 186,
   "id": "97cb9001-b489-44d2-b50f-d79abe8be737",
   "metadata": {},
   "outputs": [
    {
     "data": {
      "text/plain": [
       "array([False, False,  True, False,  True, False,  True, False,  True,\n",
       "       False,  True, False, False, False, False,  True,  True, False,\n",
       "       False, False])"
      ]
     },
     "execution_count": 186,
     "metadata": {},
     "output_type": "execute_result"
    }
   ],
   "source": [
    "lastArray"
   ]
  },
  {
   "cell_type": "code",
   "execution_count": 188,
   "id": "4fbe62e8-40ac-4b91-8716-96277b9ca9e6",
   "metadata": {},
   "outputs": [
    {
     "data": {
      "text/plain": [
       "array([10, 20, 45, 35, 72, 34, 74,  8, 55, 11, 55,  9, 27, 37, 44, 60, 64,\n",
       "       19, 43, 16])"
      ]
     },
     "execution_count": 188,
     "metadata": {},
     "output_type": "execute_result"
    }
   ],
   "source": [
    "myNewArray"
   ]
  },
  {
   "cell_type": "code",
   "execution_count": 192,
   "id": "9b6173ea-fa90-4f48-94e7-0e9b942dd513",
   "metadata": {},
   "outputs": [
    {
     "data": {
      "text/plain": [
       "array([45, 72, 74, 55, 55, 60, 64])"
      ]
     },
     "execution_count": 192,
     "metadata": {},
     "output_type": "execute_result"
    }
   ],
   "source": [
    "myNewArray[lastArray]"
   ]
  },
  {
   "cell_type": "code",
   "execution_count": 194,
   "id": "b2815a26-c717-4665-b07d-2ae5b3a7c5e1",
   "metadata": {},
   "outputs": [
    {
     "data": {
      "text/plain": [
       "array([72, 74, 55, 55, 60, 64])"
      ]
     },
     "execution_count": 194,
     "metadata": {},
     "output_type": "execute_result"
    }
   ],
   "source": [
    "## or\n",
    "myNewArray[myNewArray>50]"
   ]
  },
  {
   "cell_type": "code",
   "execution_count": 196,
   "id": "a2071d96-9290-457b-8e18-4ad11f3aef85",
   "metadata": {},
   "outputs": [],
   "source": [
    "otherArray=np.arange(0,24)"
   ]
  },
  {
   "cell_type": "code",
   "execution_count": 198,
   "id": "2e7cdfbf-0e9e-417b-9adb-215acaa4c9bb",
   "metadata": {},
   "outputs": [
    {
     "data": {
      "text/plain": [
       "array([ 0,  1,  2,  3,  4,  5,  6,  7,  8,  9, 10, 11, 12, 13, 14, 15, 16,\n",
       "       17, 18, 19, 20, 21, 22, 23])"
      ]
     },
     "execution_count": 198,
     "metadata": {},
     "output_type": "execute_result"
    }
   ],
   "source": [
    "otherArray"
   ]
  },
  {
   "cell_type": "code",
   "execution_count": 200,
   "id": "bb245e3e-91a1-4aa3-93c4-6b06fc3ad063",
   "metadata": {},
   "outputs": [
    {
     "data": {
      "text/plain": [
       "array([ 0,  2,  4,  6,  8, 10, 12, 14, 16, 18, 20, 22, 24, 26, 28, 30, 32,\n",
       "       34, 36, 38, 40, 42, 44, 46])"
      ]
     },
     "execution_count": 200,
     "metadata": {},
     "output_type": "execute_result"
    }
   ],
   "source": [
    "otherArray+otherArray"
   ]
  },
  {
   "cell_type": "code",
   "execution_count": 202,
   "id": "e13799bd-8bd9-411e-93d8-90cb9f537b71",
   "metadata": {},
   "outputs": [
    {
     "data": {
      "text/plain": [
       "array([  0,   1,   4,   9,  16,  25,  36,  49,  64,  81, 100, 121, 144,\n",
       "       169, 196, 225, 256, 289, 324, 361, 400, 441, 484, 529])"
      ]
     },
     "execution_count": 202,
     "metadata": {},
     "output_type": "execute_result"
    }
   ],
   "source": [
    "otherArray*otherArray"
   ]
  },
  {
   "cell_type": "code",
   "execution_count": 204,
   "id": "48b5c03c-745e-43e3-9b94-db6b7bb2ec32",
   "metadata": {},
   "outputs": [
    {
     "data": {
      "text/plain": [
       "array([0, 0, 0, 0, 0, 0, 0, 0, 0, 0, 0, 0, 0, 0, 0, 0, 0, 0, 0, 0, 0, 0,\n",
       "       0, 0])"
      ]
     },
     "execution_count": 204,
     "metadata": {},
     "output_type": "execute_result"
    }
   ],
   "source": [
    "otherArray-otherArray"
   ]
  },
  {
   "cell_type": "code",
   "execution_count": 206,
   "id": "ba574541-19c1-4591-9e33-404850bd9721",
   "metadata": {},
   "outputs": [
    {
     "name": "stderr",
     "output_type": "stream",
     "text": [
      "C:\\Users\\beyra\\AppData\\Local\\Temp\\ipykernel_22408\\3566527340.py:1: RuntimeWarning: invalid value encountered in divide\n",
      "  otherArray/otherArray\n"
     ]
    },
    {
     "data": {
      "text/plain": [
       "array([nan,  1.,  1.,  1.,  1.,  1.,  1.,  1.,  1.,  1.,  1.,  1.,  1.,\n",
       "        1.,  1.,  1.,  1.,  1.,  1.,  1.,  1.,  1.,  1.,  1.])"
      ]
     },
     "execution_count": 206,
     "metadata": {},
     "output_type": "execute_result"
    }
   ],
   "source": [
    "otherArray/otherArray"
   ]
  },
  {
   "cell_type": "code",
   "execution_count": 208,
   "id": "407b1f74-0fd7-4a81-9afa-36d60aa16ec4",
   "metadata": {},
   "outputs": [
    {
     "data": {
      "text/plain": [
       "array([0.        , 1.        , 1.41421356, 1.73205081, 2.        ,\n",
       "       2.23606798, 2.44948974, 2.64575131, 2.82842712, 3.        ,\n",
       "       3.16227766, 3.31662479, 3.46410162, 3.60555128, 3.74165739,\n",
       "       3.87298335, 4.        , 4.12310563, 4.24264069, 4.35889894,\n",
       "       4.47213595, 4.58257569, 4.69041576, 4.79583152])"
      ]
     },
     "execution_count": 208,
     "metadata": {},
     "output_type": "execute_result"
    }
   ],
   "source": [
    "np.sqrt(otherArray)"
   ]
  },
  {
   "cell_type": "code",
   "execution_count": 210,
   "id": "e06a02e4-dcb9-4bf0-af23-0d66d1a54afe",
   "metadata": {},
   "outputs": [
    {
     "data": {
      "text/plain": [
       "0"
      ]
     },
     "execution_count": 210,
     "metadata": {},
     "output_type": "execute_result"
    }
   ],
   "source": [
    "np.min(otherArray)"
   ]
  },
  {
   "cell_type": "code",
   "execution_count": null,
   "id": "a3186c18-4ee8-43ea-9014-adab98573cb0",
   "metadata": {},
   "outputs": [],
   "source": []
  }
 ],
 "metadata": {
  "kernelspec": {
   "display_name": "Python 3 (ipykernel)",
   "language": "python",
   "name": "python3"
  },
  "language_info": {
   "codemirror_mode": {
    "name": "ipython",
    "version": 3
   },
   "file_extension": ".py",
   "mimetype": "text/x-python",
   "name": "python",
   "nbconvert_exporter": "python",
   "pygments_lexer": "ipython3",
   "version": "3.12.7"
  }
 },
 "nbformat": 4,
 "nbformat_minor": 5
}
