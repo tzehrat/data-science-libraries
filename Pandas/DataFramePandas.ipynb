{
 "cells": [
  {
   "cell_type": "code",
   "execution_count": 1,
   "id": "73cb9123-5b00-461d-81ab-dd9f458fbc86",
   "metadata": {},
   "outputs": [],
   "source": [
    "import numpy as np\n",
    "import pandas as pd"
   ]
  },
  {
   "cell_type": "markdown",
   "id": "e141c15c-d5be-489c-81ea-98a3d4800b0b",
   "metadata": {},
   "source": [
    "## DataFrame"
   ]
  },
  {
   "cell_type": "code",
   "execution_count": 14,
   "id": "eb30de54-5afa-4d2e-ba48-9470c4740528",
   "metadata": {},
   "outputs": [],
   "source": [
    "## transforms data into an excel spreadsheet style structure"
   ]
  },
  {
   "cell_type": "code",
   "execution_count": 16,
   "id": "95cea74b-d1ed-4e78-828f-5566211a92c7",
   "metadata": {},
   "outputs": [],
   "source": [
    "data=np.random.randn(4,3)"
   ]
  },
  {
   "cell_type": "code",
   "execution_count": 18,
   "id": "d9ba7e60-3cd8-44af-b020-68d49c2ca394",
   "metadata": {},
   "outputs": [
    {
     "data": {
      "text/plain": [
       "array([[-1.13439803, -0.47801239,  0.79266339],\n",
       "       [-0.61150752, -1.21697035, -0.05705954],\n",
       "       [ 0.22395348, -0.03619035, -0.56777756],\n",
       "       [ 1.26221588,  0.869494  ,  0.38193154]])"
      ]
     },
     "execution_count": 18,
     "metadata": {},
     "output_type": "execute_result"
    }
   ],
   "source": [
    "data"
   ]
  },
  {
   "cell_type": "code",
   "execution_count": 20,
   "id": "0b4ce58e-1cd2-4ba9-90a3-282dde8beda0",
   "metadata": {},
   "outputs": [],
   "source": [
    "dataFrame=pd.DataFrame(data)"
   ]
  },
  {
   "cell_type": "code",
   "execution_count": 26,
   "id": "bf82f1aa-6d6d-4a27-9266-01e9a371d8e9",
   "metadata": {},
   "outputs": [
    {
     "data": {
      "text/html": [
       "<div>\n",
       "<style scoped>\n",
       "    .dataframe tbody tr th:only-of-type {\n",
       "        vertical-align: middle;\n",
       "    }\n",
       "\n",
       "    .dataframe tbody tr th {\n",
       "        vertical-align: top;\n",
       "    }\n",
       "\n",
       "    .dataframe thead th {\n",
       "        text-align: right;\n",
       "    }\n",
       "</style>\n",
       "<table border=\"1\" class=\"dataframe\">\n",
       "  <thead>\n",
       "    <tr style=\"text-align: right;\">\n",
       "      <th></th>\n",
       "      <th>0</th>\n",
       "      <th>1</th>\n",
       "      <th>2</th>\n",
       "    </tr>\n",
       "  </thead>\n",
       "  <tbody>\n",
       "    <tr>\n",
       "      <th>0</th>\n",
       "      <td>-1.134398</td>\n",
       "      <td>-0.478012</td>\n",
       "      <td>0.792663</td>\n",
       "    </tr>\n",
       "    <tr>\n",
       "      <th>1</th>\n",
       "      <td>-0.611508</td>\n",
       "      <td>-1.216970</td>\n",
       "      <td>-0.057060</td>\n",
       "    </tr>\n",
       "    <tr>\n",
       "      <th>2</th>\n",
       "      <td>0.223953</td>\n",
       "      <td>-0.036190</td>\n",
       "      <td>-0.567778</td>\n",
       "    </tr>\n",
       "    <tr>\n",
       "      <th>3</th>\n",
       "      <td>1.262216</td>\n",
       "      <td>0.869494</td>\n",
       "      <td>0.381932</td>\n",
       "    </tr>\n",
       "  </tbody>\n",
       "</table>\n",
       "</div>"
      ],
      "text/plain": [
       "          0         1         2\n",
       "0 -1.134398 -0.478012  0.792663\n",
       "1 -0.611508 -1.216970 -0.057060\n",
       "2  0.223953 -0.036190 -0.567778\n",
       "3  1.262216  0.869494  0.381932"
      ]
     },
     "execution_count": 26,
     "metadata": {},
     "output_type": "execute_result"
    }
   ],
   "source": [
    "dataFrame"
   ]
  },
  {
   "cell_type": "code",
   "execution_count": 28,
   "id": "2ebc9535-e829-4c50-81c7-3637589b1d63",
   "metadata": {},
   "outputs": [
    {
     "data": {
      "text/plain": [
       "0   -1.134398\n",
       "1   -0.611508\n",
       "2    0.223953\n",
       "3    1.262216\n",
       "Name: 0, dtype: float64"
      ]
     },
     "execution_count": 28,
     "metadata": {},
     "output_type": "execute_result"
    }
   ],
   "source": [
    "dataFrame[0]"
   ]
  },
  {
   "cell_type": "code",
   "execution_count": 34,
   "id": "0efe14d7-9cc3-48fc-93c9-8e1d6748e2e5",
   "metadata": {},
   "outputs": [
    {
     "data": {
      "text/plain": [
       "pandas.core.frame.DataFrame"
      ]
     },
     "execution_count": 34,
     "metadata": {},
     "output_type": "execute_result"
    }
   ],
   "source": [
    "type(dataFrame)"
   ]
  },
  {
   "cell_type": "code",
   "execution_count": 36,
   "id": "741888d1-244c-4a03-b93e-0734280b4f2b",
   "metadata": {},
   "outputs": [
    {
     "data": {
      "text/plain": [
       "pandas.core.series.Series"
      ]
     },
     "execution_count": 36,
     "metadata": {},
     "output_type": "execute_result"
    }
   ],
   "source": [
    "type(dataFrame[0])"
   ]
  },
  {
   "cell_type": "code",
   "execution_count": 42,
   "id": "76317a6b-1840-4c17-bfab-052fbf149cea",
   "metadata": {},
   "outputs": [],
   "source": [
    "newDataFrame=pd.DataFrame(data,index=[\"Ellie\",\"Nick\",\"Jonas\",\"Sana\"],columns=[\"Salary\",\"Age\",\"Working Hours\"])"
   ]
  },
  {
   "cell_type": "code",
   "execution_count": 44,
   "id": "f13567e2-0db8-42a7-a718-f3218b883c9d",
   "metadata": {},
   "outputs": [
    {
     "data": {
      "text/html": [
       "<div>\n",
       "<style scoped>\n",
       "    .dataframe tbody tr th:only-of-type {\n",
       "        vertical-align: middle;\n",
       "    }\n",
       "\n",
       "    .dataframe tbody tr th {\n",
       "        vertical-align: top;\n",
       "    }\n",
       "\n",
       "    .dataframe thead th {\n",
       "        text-align: right;\n",
       "    }\n",
       "</style>\n",
       "<table border=\"1\" class=\"dataframe\">\n",
       "  <thead>\n",
       "    <tr style=\"text-align: right;\">\n",
       "      <th></th>\n",
       "      <th>Salary</th>\n",
       "      <th>Age</th>\n",
       "      <th>Working Hours</th>\n",
       "    </tr>\n",
       "  </thead>\n",
       "  <tbody>\n",
       "    <tr>\n",
       "      <th>Ellie</th>\n",
       "      <td>-1.134398</td>\n",
       "      <td>-0.478012</td>\n",
       "      <td>0.792663</td>\n",
       "    </tr>\n",
       "    <tr>\n",
       "      <th>Nick</th>\n",
       "      <td>-0.611508</td>\n",
       "      <td>-1.216970</td>\n",
       "      <td>-0.057060</td>\n",
       "    </tr>\n",
       "    <tr>\n",
       "      <th>Jonas</th>\n",
       "      <td>0.223953</td>\n",
       "      <td>-0.036190</td>\n",
       "      <td>-0.567778</td>\n",
       "    </tr>\n",
       "    <tr>\n",
       "      <th>Sana</th>\n",
       "      <td>1.262216</td>\n",
       "      <td>0.869494</td>\n",
       "      <td>0.381932</td>\n",
       "    </tr>\n",
       "  </tbody>\n",
       "</table>\n",
       "</div>"
      ],
      "text/plain": [
       "         Salary       Age  Working Hours\n",
       "Ellie -1.134398 -0.478012       0.792663\n",
       "Nick  -0.611508 -1.216970      -0.057060\n",
       "Jonas  0.223953 -0.036190      -0.567778\n",
       "Sana   1.262216  0.869494       0.381932"
      ]
     },
     "execution_count": 44,
     "metadata": {},
     "output_type": "execute_result"
    }
   ],
   "source": [
    "newDataFrame"
   ]
  },
  {
   "cell_type": "code",
   "execution_count": 46,
   "id": "94150e03-a081-4a9f-a7c8-cbb6650da5f7",
   "metadata": {},
   "outputs": [
    {
     "data": {
      "text/plain": [
       "Ellie   -0.478012\n",
       "Nick    -1.216970\n",
       "Jonas   -0.036190\n",
       "Sana     0.869494\n",
       "Name: Age, dtype: float64"
      ]
     },
     "execution_count": 46,
     "metadata": {},
     "output_type": "execute_result"
    }
   ],
   "source": [
    "newDataFrame[\"Age\"]"
   ]
  },
  {
   "cell_type": "code",
   "execution_count": 48,
   "id": "fc9ce9ad-c150-4a57-b30f-3b1f2c43bfeb",
   "metadata": {},
   "outputs": [
    {
     "data": {
      "text/plain": [
       "Ellie    0.792663\n",
       "Nick    -0.057060\n",
       "Jonas   -0.567778\n",
       "Sana     0.381932\n",
       "Name: Working Hours, dtype: float64"
      ]
     },
     "execution_count": 48,
     "metadata": {},
     "output_type": "execute_result"
    }
   ],
   "source": [
    "newDataFrame[\"Working Hours\"]"
   ]
  },
  {
   "cell_type": "code",
   "execution_count": 52,
   "id": "ecfbb88f-a379-442a-9dbe-20c93e74be4c",
   "metadata": {},
   "outputs": [
    {
     "data": {
      "text/html": [
       "<div>\n",
       "<style scoped>\n",
       "    .dataframe tbody tr th:only-of-type {\n",
       "        vertical-align: middle;\n",
       "    }\n",
       "\n",
       "    .dataframe tbody tr th {\n",
       "        vertical-align: top;\n",
       "    }\n",
       "\n",
       "    .dataframe thead th {\n",
       "        text-align: right;\n",
       "    }\n",
       "</style>\n",
       "<table border=\"1\" class=\"dataframe\">\n",
       "  <thead>\n",
       "    <tr style=\"text-align: right;\">\n",
       "      <th></th>\n",
       "      <th>Salary</th>\n",
       "      <th>Age</th>\n",
       "    </tr>\n",
       "  </thead>\n",
       "  <tbody>\n",
       "    <tr>\n",
       "      <th>Ellie</th>\n",
       "      <td>-1.134398</td>\n",
       "      <td>-0.478012</td>\n",
       "    </tr>\n",
       "    <tr>\n",
       "      <th>Nick</th>\n",
       "      <td>-0.611508</td>\n",
       "      <td>-1.216970</td>\n",
       "    </tr>\n",
       "    <tr>\n",
       "      <th>Jonas</th>\n",
       "      <td>0.223953</td>\n",
       "      <td>-0.036190</td>\n",
       "    </tr>\n",
       "    <tr>\n",
       "      <th>Sana</th>\n",
       "      <td>1.262216</td>\n",
       "      <td>0.869494</td>\n",
       "    </tr>\n",
       "  </tbody>\n",
       "</table>\n",
       "</div>"
      ],
      "text/plain": [
       "         Salary       Age\n",
       "Ellie -1.134398 -0.478012\n",
       "Nick  -0.611508 -1.216970\n",
       "Jonas  0.223953 -0.036190\n",
       "Sana   1.262216  0.869494"
      ]
     },
     "execution_count": 52,
     "metadata": {},
     "output_type": "execute_result"
    }
   ],
   "source": [
    "newDataFrame[[\"Salary\",\"Age\"]] ## Columns"
   ]
  },
  {
   "cell_type": "code",
   "execution_count": 54,
   "id": "834f0ca7-20e1-4b22-b9d7-02c41a601501",
   "metadata": {},
   "outputs": [
    {
     "data": {
      "text/plain": [
       "Salary          -1.134398\n",
       "Age             -0.478012\n",
       "Working Hours    0.792663\n",
       "Name: Ellie, dtype: float64"
      ]
     },
     "execution_count": 54,
     "metadata": {},
     "output_type": "execute_result"
    }
   ],
   "source": [
    "newDataFrame.loc[\"Ellie\"] # row "
   ]
  },
  {
   "cell_type": "code",
   "execution_count": 60,
   "id": "de7f47ca-9607-4c49-a0b9-d969c0aa8872",
   "metadata": {},
   "outputs": [
    {
     "data": {
      "text/plain": [
       "Salary           1.262216\n",
       "Age              0.869494\n",
       "Working Hours    0.381932\n",
       "Name: Sana, dtype: float64"
      ]
     },
     "execution_count": 60,
     "metadata": {},
     "output_type": "execute_result"
    }
   ],
   "source": [
    "newDataFrame.iloc[3] #index Location"
   ]
  },
  {
   "cell_type": "code",
   "execution_count": 62,
   "id": "645076bc-7254-4175-a165-e26457630d74",
   "metadata": {},
   "outputs": [
    {
     "data": {
      "text/html": [
       "<div>\n",
       "<style scoped>\n",
       "    .dataframe tbody tr th:only-of-type {\n",
       "        vertical-align: middle;\n",
       "    }\n",
       "\n",
       "    .dataframe tbody tr th {\n",
       "        vertical-align: top;\n",
       "    }\n",
       "\n",
       "    .dataframe thead th {\n",
       "        text-align: right;\n",
       "    }\n",
       "</style>\n",
       "<table border=\"1\" class=\"dataframe\">\n",
       "  <thead>\n",
       "    <tr style=\"text-align: right;\">\n",
       "      <th></th>\n",
       "      <th>Salary</th>\n",
       "      <th>Age</th>\n",
       "      <th>Working Hours</th>\n",
       "    </tr>\n",
       "  </thead>\n",
       "  <tbody>\n",
       "    <tr>\n",
       "      <th>Ellie</th>\n",
       "      <td>-1.134398</td>\n",
       "      <td>-0.478012</td>\n",
       "      <td>0.792663</td>\n",
       "    </tr>\n",
       "    <tr>\n",
       "      <th>Nick</th>\n",
       "      <td>-0.611508</td>\n",
       "      <td>-1.216970</td>\n",
       "      <td>-0.057060</td>\n",
       "    </tr>\n",
       "    <tr>\n",
       "      <th>Jonas</th>\n",
       "      <td>0.223953</td>\n",
       "      <td>-0.036190</td>\n",
       "      <td>-0.567778</td>\n",
       "    </tr>\n",
       "    <tr>\n",
       "      <th>Sana</th>\n",
       "      <td>1.262216</td>\n",
       "      <td>0.869494</td>\n",
       "      <td>0.381932</td>\n",
       "    </tr>\n",
       "  </tbody>\n",
       "</table>\n",
       "</div>"
      ],
      "text/plain": [
       "         Salary       Age  Working Hours\n",
       "Ellie -1.134398 -0.478012       0.792663\n",
       "Nick  -0.611508 -1.216970      -0.057060\n",
       "Jonas  0.223953 -0.036190      -0.567778\n",
       "Sana   1.262216  0.869494       0.381932"
      ]
     },
     "execution_count": 62,
     "metadata": {},
     "output_type": "execute_result"
    }
   ],
   "source": [
    "newDataFrame"
   ]
  },
  {
   "cell_type": "code",
   "execution_count": 124,
   "id": "d60a4630-1a5a-4427-ab29-7f89a4fe6b94",
   "metadata": {},
   "outputs": [],
   "source": [
    "newDataFrame[\"Retirement Age\"]=newDataFrame[\"Age\"]*2"
   ]
  },
  {
   "cell_type": "code",
   "execution_count": 126,
   "id": "3e9b7448-1ec5-45a2-92cf-f114f95b1120",
   "metadata": {},
   "outputs": [
    {
     "data": {
      "text/html": [
       "<div>\n",
       "<style scoped>\n",
       "    .dataframe tbody tr th:only-of-type {\n",
       "        vertical-align: middle;\n",
       "    }\n",
       "\n",
       "    .dataframe tbody tr th {\n",
       "        vertical-align: top;\n",
       "    }\n",
       "\n",
       "    .dataframe thead th {\n",
       "        text-align: right;\n",
       "    }\n",
       "</style>\n",
       "<table border=\"1\" class=\"dataframe\">\n",
       "  <thead>\n",
       "    <tr style=\"text-align: right;\">\n",
       "      <th></th>\n",
       "      <th>Salary</th>\n",
       "      <th>Age</th>\n",
       "      <th>Working Hours</th>\n",
       "      <th>Retirement Age</th>\n",
       "    </tr>\n",
       "  </thead>\n",
       "  <tbody>\n",
       "    <tr>\n",
       "      <th>Ellie</th>\n",
       "      <td>-1.134398</td>\n",
       "      <td>-0.478012</td>\n",
       "      <td>0.792663</td>\n",
       "      <td>-0.956025</td>\n",
       "    </tr>\n",
       "    <tr>\n",
       "      <th>Nick</th>\n",
       "      <td>-0.611508</td>\n",
       "      <td>-1.216970</td>\n",
       "      <td>-0.057060</td>\n",
       "      <td>-2.433941</td>\n",
       "    </tr>\n",
       "    <tr>\n",
       "      <th>Jonas</th>\n",
       "      <td>0.223953</td>\n",
       "      <td>-0.036190</td>\n",
       "      <td>-0.567778</td>\n",
       "      <td>-0.072381</td>\n",
       "    </tr>\n",
       "    <tr>\n",
       "      <th>Sana</th>\n",
       "      <td>1.262216</td>\n",
       "      <td>0.869494</td>\n",
       "      <td>0.381932</td>\n",
       "      <td>1.738988</td>\n",
       "    </tr>\n",
       "  </tbody>\n",
       "</table>\n",
       "</div>"
      ],
      "text/plain": [
       "         Salary       Age  Working Hours  Retirement Age\n",
       "Ellie -1.134398 -0.478012       0.792663       -0.956025\n",
       "Nick  -0.611508 -1.216970      -0.057060       -2.433941\n",
       "Jonas  0.223953 -0.036190      -0.567778       -0.072381\n",
       "Sana   1.262216  0.869494       0.381932        1.738988"
      ]
     },
     "execution_count": 126,
     "metadata": {},
     "output_type": "execute_result"
    }
   ],
   "source": [
    "newDataFrame"
   ]
  },
  {
   "cell_type": "code",
   "execution_count": 128,
   "id": "bc071c71-766e-4670-ba53-fcc648873b1c",
   "metadata": {},
   "outputs": [
    {
     "data": {
      "text/html": [
       "<div>\n",
       "<style scoped>\n",
       "    .dataframe tbody tr th:only-of-type {\n",
       "        vertical-align: middle;\n",
       "    }\n",
       "\n",
       "    .dataframe tbody tr th {\n",
       "        vertical-align: top;\n",
       "    }\n",
       "\n",
       "    .dataframe thead th {\n",
       "        text-align: right;\n",
       "    }\n",
       "</style>\n",
       "<table border=\"1\" class=\"dataframe\">\n",
       "  <thead>\n",
       "    <tr style=\"text-align: right;\">\n",
       "      <th></th>\n",
       "      <th>Salary</th>\n",
       "      <th>Age</th>\n",
       "      <th>Working Hours</th>\n",
       "      <th>Retirement Age</th>\n",
       "    </tr>\n",
       "  </thead>\n",
       "  <tbody>\n",
       "    <tr>\n",
       "      <th>Ellie</th>\n",
       "      <td>-1.134398</td>\n",
       "      <td>-0.478012</td>\n",
       "      <td>0.792663</td>\n",
       "      <td>-0.956025</td>\n",
       "    </tr>\n",
       "    <tr>\n",
       "      <th>Nick</th>\n",
       "      <td>-0.611508</td>\n",
       "      <td>-1.216970</td>\n",
       "      <td>-0.057060</td>\n",
       "      <td>-2.433941</td>\n",
       "    </tr>\n",
       "    <tr>\n",
       "      <th>Jonas</th>\n",
       "      <td>0.223953</td>\n",
       "      <td>-0.036190</td>\n",
       "      <td>-0.567778</td>\n",
       "      <td>-0.072381</td>\n",
       "    </tr>\n",
       "  </tbody>\n",
       "</table>\n",
       "</div>"
      ],
      "text/plain": [
       "         Salary       Age  Working Hours  Retirement Age\n",
       "Ellie -1.134398 -0.478012       0.792663       -0.956025\n",
       "Nick  -0.611508 -1.216970      -0.057060       -2.433941\n",
       "Jonas  0.223953 -0.036190      -0.567778       -0.072381"
      ]
     },
     "execution_count": 128,
     "metadata": {},
     "output_type": "execute_result"
    }
   ],
   "source": [
    "newDataFrame.drop(\"Sana\",axis=0) # 1 - columns, 0 - row"
   ]
  },
  {
   "cell_type": "code",
   "execution_count": 130,
   "id": "049b8d59-79de-466d-a23f-59098cdab42a",
   "metadata": {},
   "outputs": [],
   "source": [
    "newDataFrame.drop(\"Retirement Age\",axis=1,inplace=True)"
   ]
  },
  {
   "cell_type": "code",
   "execution_count": 132,
   "id": "24bc225b-e26c-4995-96d1-d3b6e2838b9e",
   "metadata": {},
   "outputs": [
    {
     "data": {
      "text/html": [
       "<div>\n",
       "<style scoped>\n",
       "    .dataframe tbody tr th:only-of-type {\n",
       "        vertical-align: middle;\n",
       "    }\n",
       "\n",
       "    .dataframe tbody tr th {\n",
       "        vertical-align: top;\n",
       "    }\n",
       "\n",
       "    .dataframe thead th {\n",
       "        text-align: right;\n",
       "    }\n",
       "</style>\n",
       "<table border=\"1\" class=\"dataframe\">\n",
       "  <thead>\n",
       "    <tr style=\"text-align: right;\">\n",
       "      <th></th>\n",
       "      <th>Salary</th>\n",
       "      <th>Age</th>\n",
       "      <th>Working Hours</th>\n",
       "    </tr>\n",
       "  </thead>\n",
       "  <tbody>\n",
       "    <tr>\n",
       "      <th>Ellie</th>\n",
       "      <td>-1.134398</td>\n",
       "      <td>-0.478012</td>\n",
       "      <td>0.792663</td>\n",
       "    </tr>\n",
       "    <tr>\n",
       "      <th>Nick</th>\n",
       "      <td>-0.611508</td>\n",
       "      <td>-1.216970</td>\n",
       "      <td>-0.057060</td>\n",
       "    </tr>\n",
       "    <tr>\n",
       "      <th>Jonas</th>\n",
       "      <td>0.223953</td>\n",
       "      <td>-0.036190</td>\n",
       "      <td>-0.567778</td>\n",
       "    </tr>\n",
       "    <tr>\n",
       "      <th>Sana</th>\n",
       "      <td>1.262216</td>\n",
       "      <td>0.869494</td>\n",
       "      <td>0.381932</td>\n",
       "    </tr>\n",
       "  </tbody>\n",
       "</table>\n",
       "</div>"
      ],
      "text/plain": [
       "         Salary       Age  Working Hours\n",
       "Ellie -1.134398 -0.478012       0.792663\n",
       "Nick  -0.611508 -1.216970      -0.057060\n",
       "Jonas  0.223953 -0.036190      -0.567778\n",
       "Sana   1.262216  0.869494       0.381932"
      ]
     },
     "execution_count": 132,
     "metadata": {},
     "output_type": "execute_result"
    }
   ],
   "source": [
    "newDataFrame"
   ]
  },
  {
   "cell_type": "code",
   "execution_count": 134,
   "id": "dec5f1db-fcfe-4520-82a7-7f69c05d68c2",
   "metadata": {},
   "outputs": [
    {
     "data": {
      "text/plain": [
       "Salary           0.223953\n",
       "Age             -0.036190\n",
       "Working Hours   -0.567778\n",
       "Name: Jonas, dtype: float64"
      ]
     },
     "execution_count": 134,
     "metadata": {},
     "output_type": "execute_result"
    }
   ],
   "source": [
    "newDataFrame.loc[\"Jonas\"]"
   ]
  },
  {
   "cell_type": "code",
   "execution_count": 136,
   "id": "147dd825-54df-45ee-b1e2-292cc28c8c65",
   "metadata": {},
   "outputs": [
    {
     "data": {
      "text/plain": [
       "-0.03619034923561611"
      ]
     },
     "execution_count": 136,
     "metadata": {},
     "output_type": "execute_result"
    }
   ],
   "source": [
    "newDataFrame.loc[\"Jonas\"][\"Age\"]"
   ]
  },
  {
   "cell_type": "code",
   "execution_count": 138,
   "id": "ebadf8cd-d9b0-43c1-9d42-f03b92ef705f",
   "metadata": {},
   "outputs": [
    {
     "data": {
      "text/plain": [
       "-0.47801239120084815"
      ]
     },
     "execution_count": 138,
     "metadata": {},
     "output_type": "execute_result"
    }
   ],
   "source": [
    "newDataFrame.loc[\"Ellie\",\"Age\"]"
   ]
  },
  {
   "cell_type": "code",
   "execution_count": 140,
   "id": "cc431449-6703-4d58-832e-fdbc92d06f54",
   "metadata": {},
   "outputs": [
    {
     "data": {
      "text/html": [
       "<div>\n",
       "<style scoped>\n",
       "    .dataframe tbody tr th:only-of-type {\n",
       "        vertical-align: middle;\n",
       "    }\n",
       "\n",
       "    .dataframe tbody tr th {\n",
       "        vertical-align: top;\n",
       "    }\n",
       "\n",
       "    .dataframe thead th {\n",
       "        text-align: right;\n",
       "    }\n",
       "</style>\n",
       "<table border=\"1\" class=\"dataframe\">\n",
       "  <thead>\n",
       "    <tr style=\"text-align: right;\">\n",
       "      <th></th>\n",
       "      <th>Salary</th>\n",
       "      <th>Age</th>\n",
       "      <th>Working Hours</th>\n",
       "    </tr>\n",
       "  </thead>\n",
       "  <tbody>\n",
       "    <tr>\n",
       "      <th>Ellie</th>\n",
       "      <td>-1.134398</td>\n",
       "      <td>-0.478012</td>\n",
       "      <td>0.792663</td>\n",
       "    </tr>\n",
       "    <tr>\n",
       "      <th>Nick</th>\n",
       "      <td>-0.611508</td>\n",
       "      <td>-1.216970</td>\n",
       "      <td>-0.057060</td>\n",
       "    </tr>\n",
       "    <tr>\n",
       "      <th>Jonas</th>\n",
       "      <td>0.223953</td>\n",
       "      <td>-0.036190</td>\n",
       "      <td>-0.567778</td>\n",
       "    </tr>\n",
       "    <tr>\n",
       "      <th>Sana</th>\n",
       "      <td>1.262216</td>\n",
       "      <td>0.869494</td>\n",
       "      <td>0.381932</td>\n",
       "    </tr>\n",
       "  </tbody>\n",
       "</table>\n",
       "</div>"
      ],
      "text/plain": [
       "         Salary       Age  Working Hours\n",
       "Ellie -1.134398 -0.478012       0.792663\n",
       "Nick  -0.611508 -1.216970      -0.057060\n",
       "Jonas  0.223953 -0.036190      -0.567778\n",
       "Sana   1.262216  0.869494       0.381932"
      ]
     },
     "execution_count": 140,
     "metadata": {},
     "output_type": "execute_result"
    }
   ],
   "source": [
    "newDataFrame"
   ]
  },
  {
   "cell_type": "code",
   "execution_count": 142,
   "id": "aa0eb57e-143a-4c3e-ae1b-32a203b42bbe",
   "metadata": {},
   "outputs": [
    {
     "data": {
      "text/html": [
       "<div>\n",
       "<style scoped>\n",
       "    .dataframe tbody tr th:only-of-type {\n",
       "        vertical-align: middle;\n",
       "    }\n",
       "\n",
       "    .dataframe tbody tr th {\n",
       "        vertical-align: top;\n",
       "    }\n",
       "\n",
       "    .dataframe thead th {\n",
       "        text-align: right;\n",
       "    }\n",
       "</style>\n",
       "<table border=\"1\" class=\"dataframe\">\n",
       "  <thead>\n",
       "    <tr style=\"text-align: right;\">\n",
       "      <th></th>\n",
       "      <th>Salary</th>\n",
       "      <th>Age</th>\n",
       "      <th>Working Hours</th>\n",
       "    </tr>\n",
       "  </thead>\n",
       "  <tbody>\n",
       "    <tr>\n",
       "      <th>Ellie</th>\n",
       "      <td>-1.134398</td>\n",
       "      <td>-0.478012</td>\n",
       "      <td>NaN</td>\n",
       "    </tr>\n",
       "    <tr>\n",
       "      <th>Nick</th>\n",
       "      <td>-0.611508</td>\n",
       "      <td>-1.216970</td>\n",
       "      <td>-0.057060</td>\n",
       "    </tr>\n",
       "    <tr>\n",
       "      <th>Jonas</th>\n",
       "      <td>NaN</td>\n",
       "      <td>-0.036190</td>\n",
       "      <td>-0.567778</td>\n",
       "    </tr>\n",
       "    <tr>\n",
       "      <th>Sana</th>\n",
       "      <td>NaN</td>\n",
       "      <td>NaN</td>\n",
       "      <td>NaN</td>\n",
       "    </tr>\n",
       "  </tbody>\n",
       "</table>\n",
       "</div>"
      ],
      "text/plain": [
       "         Salary       Age  Working Hours\n",
       "Ellie -1.134398 -0.478012            NaN\n",
       "Nick  -0.611508 -1.216970      -0.057060\n",
       "Jonas       NaN -0.036190      -0.567778\n",
       "Sana        NaN       NaN            NaN"
      ]
     },
     "execution_count": 142,
     "metadata": {},
     "output_type": "execute_result"
    }
   ],
   "source": [
    "newDataFrame[newDataFrame<0]"
   ]
  },
  {
   "cell_type": "code",
   "execution_count": 144,
   "id": "68cc0170-16d9-44d7-bf89-533b95f819de",
   "metadata": {},
   "outputs": [],
   "source": [
    "booleanFrame=newDataFrame<0"
   ]
  },
  {
   "cell_type": "code",
   "execution_count": 146,
   "id": "5ccc4f9c-3255-4b74-8172-88c3a7c56e3f",
   "metadata": {},
   "outputs": [
    {
     "data": {
      "text/html": [
       "<div>\n",
       "<style scoped>\n",
       "    .dataframe tbody tr th:only-of-type {\n",
       "        vertical-align: middle;\n",
       "    }\n",
       "\n",
       "    .dataframe tbody tr th {\n",
       "        vertical-align: top;\n",
       "    }\n",
       "\n",
       "    .dataframe thead th {\n",
       "        text-align: right;\n",
       "    }\n",
       "</style>\n",
       "<table border=\"1\" class=\"dataframe\">\n",
       "  <thead>\n",
       "    <tr style=\"text-align: right;\">\n",
       "      <th></th>\n",
       "      <th>Salary</th>\n",
       "      <th>Age</th>\n",
       "      <th>Working Hours</th>\n",
       "    </tr>\n",
       "  </thead>\n",
       "  <tbody>\n",
       "    <tr>\n",
       "      <th>Ellie</th>\n",
       "      <td>True</td>\n",
       "      <td>True</td>\n",
       "      <td>False</td>\n",
       "    </tr>\n",
       "    <tr>\n",
       "      <th>Nick</th>\n",
       "      <td>True</td>\n",
       "      <td>True</td>\n",
       "      <td>True</td>\n",
       "    </tr>\n",
       "    <tr>\n",
       "      <th>Jonas</th>\n",
       "      <td>False</td>\n",
       "      <td>True</td>\n",
       "      <td>True</td>\n",
       "    </tr>\n",
       "    <tr>\n",
       "      <th>Sana</th>\n",
       "      <td>False</td>\n",
       "      <td>False</td>\n",
       "      <td>False</td>\n",
       "    </tr>\n",
       "  </tbody>\n",
       "</table>\n",
       "</div>"
      ],
      "text/plain": [
       "       Salary    Age  Working Hours\n",
       "Ellie    True   True          False\n",
       "Nick     True   True           True\n",
       "Jonas   False   True           True\n",
       "Sana    False  False          False"
      ]
     },
     "execution_count": 146,
     "metadata": {},
     "output_type": "execute_result"
    }
   ],
   "source": [
    "booleanFrame"
   ]
  },
  {
   "cell_type": "code",
   "execution_count": 148,
   "id": "e2479b3c-cce3-4dfd-8ede-2cad2f239aab",
   "metadata": {},
   "outputs": [
    {
     "data": {
      "text/html": [
       "<div>\n",
       "<style scoped>\n",
       "    .dataframe tbody tr th:only-of-type {\n",
       "        vertical-align: middle;\n",
       "    }\n",
       "\n",
       "    .dataframe tbody tr th {\n",
       "        vertical-align: top;\n",
       "    }\n",
       "\n",
       "    .dataframe thead th {\n",
       "        text-align: right;\n",
       "    }\n",
       "</style>\n",
       "<table border=\"1\" class=\"dataframe\">\n",
       "  <thead>\n",
       "    <tr style=\"text-align: right;\">\n",
       "      <th></th>\n",
       "      <th>Salary</th>\n",
       "      <th>Age</th>\n",
       "      <th>Working Hours</th>\n",
       "    </tr>\n",
       "  </thead>\n",
       "  <tbody>\n",
       "    <tr>\n",
       "      <th>Ellie</th>\n",
       "      <td>-1.134398</td>\n",
       "      <td>-0.478012</td>\n",
       "      <td>NaN</td>\n",
       "    </tr>\n",
       "    <tr>\n",
       "      <th>Nick</th>\n",
       "      <td>-0.611508</td>\n",
       "      <td>-1.216970</td>\n",
       "      <td>-0.057060</td>\n",
       "    </tr>\n",
       "    <tr>\n",
       "      <th>Jonas</th>\n",
       "      <td>NaN</td>\n",
       "      <td>-0.036190</td>\n",
       "      <td>-0.567778</td>\n",
       "    </tr>\n",
       "    <tr>\n",
       "      <th>Sana</th>\n",
       "      <td>NaN</td>\n",
       "      <td>NaN</td>\n",
       "      <td>NaN</td>\n",
       "    </tr>\n",
       "  </tbody>\n",
       "</table>\n",
       "</div>"
      ],
      "text/plain": [
       "         Salary       Age  Working Hours\n",
       "Ellie -1.134398 -0.478012            NaN\n",
       "Nick  -0.611508 -1.216970      -0.057060\n",
       "Jonas       NaN -0.036190      -0.567778\n",
       "Sana        NaN       NaN            NaN"
      ]
     },
     "execution_count": 148,
     "metadata": {},
     "output_type": "execute_result"
    }
   ],
   "source": [
    "newDataFrame[booleanFrame]"
   ]
  },
  {
   "cell_type": "code",
   "execution_count": 150,
   "id": "6e5244b2-873a-4119-83a8-6e357bd41ca5",
   "metadata": {},
   "outputs": [
    {
     "data": {
      "text/html": [
       "<div>\n",
       "<style scoped>\n",
       "    .dataframe tbody tr th:only-of-type {\n",
       "        vertical-align: middle;\n",
       "    }\n",
       "\n",
       "    .dataframe tbody tr th {\n",
       "        vertical-align: top;\n",
       "    }\n",
       "\n",
       "    .dataframe thead th {\n",
       "        text-align: right;\n",
       "    }\n",
       "</style>\n",
       "<table border=\"1\" class=\"dataframe\">\n",
       "  <thead>\n",
       "    <tr style=\"text-align: right;\">\n",
       "      <th></th>\n",
       "      <th>Salary</th>\n",
       "      <th>Age</th>\n",
       "      <th>Working Hours</th>\n",
       "    </tr>\n",
       "  </thead>\n",
       "  <tbody>\n",
       "    <tr>\n",
       "      <th>Ellie</th>\n",
       "      <td>-1.134398</td>\n",
       "      <td>-0.478012</td>\n",
       "      <td>0.792663</td>\n",
       "    </tr>\n",
       "    <tr>\n",
       "      <th>Nick</th>\n",
       "      <td>-0.611508</td>\n",
       "      <td>-1.216970</td>\n",
       "      <td>-0.057060</td>\n",
       "    </tr>\n",
       "    <tr>\n",
       "      <th>Jonas</th>\n",
       "      <td>0.223953</td>\n",
       "      <td>-0.036190</td>\n",
       "      <td>-0.567778</td>\n",
       "    </tr>\n",
       "  </tbody>\n",
       "</table>\n",
       "</div>"
      ],
      "text/plain": [
       "         Salary       Age  Working Hours\n",
       "Ellie -1.134398 -0.478012       0.792663\n",
       "Nick  -0.611508 -1.216970      -0.057060\n",
       "Jonas  0.223953 -0.036190      -0.567778"
      ]
     },
     "execution_count": 150,
     "metadata": {},
     "output_type": "execute_result"
    }
   ],
   "source": [
    "newDataFrame[newDataFrame[\"Age\"]<0]"
   ]
  },
  {
   "cell_type": "code",
   "execution_count": 153,
   "id": "da2f1054-b371-4b78-a164-7268430e4915",
   "metadata": {},
   "outputs": [
    {
     "data": {
      "text/html": [
       "<div>\n",
       "<style scoped>\n",
       "    .dataframe tbody tr th:only-of-type {\n",
       "        vertical-align: middle;\n",
       "    }\n",
       "\n",
       "    .dataframe tbody tr th {\n",
       "        vertical-align: top;\n",
       "    }\n",
       "\n",
       "    .dataframe thead th {\n",
       "        text-align: right;\n",
       "    }\n",
       "</style>\n",
       "<table border=\"1\" class=\"dataframe\">\n",
       "  <thead>\n",
       "    <tr style=\"text-align: right;\">\n",
       "      <th></th>\n",
       "      <th>index</th>\n",
       "      <th>Salary</th>\n",
       "      <th>Age</th>\n",
       "      <th>Working Hours</th>\n",
       "    </tr>\n",
       "  </thead>\n",
       "  <tbody>\n",
       "    <tr>\n",
       "      <th>0</th>\n",
       "      <td>Ellie</td>\n",
       "      <td>-1.134398</td>\n",
       "      <td>-0.478012</td>\n",
       "      <td>0.792663</td>\n",
       "    </tr>\n",
       "    <tr>\n",
       "      <th>1</th>\n",
       "      <td>Nick</td>\n",
       "      <td>-0.611508</td>\n",
       "      <td>-1.216970</td>\n",
       "      <td>-0.057060</td>\n",
       "    </tr>\n",
       "    <tr>\n",
       "      <th>2</th>\n",
       "      <td>Jonas</td>\n",
       "      <td>0.223953</td>\n",
       "      <td>-0.036190</td>\n",
       "      <td>-0.567778</td>\n",
       "    </tr>\n",
       "    <tr>\n",
       "      <th>3</th>\n",
       "      <td>Sana</td>\n",
       "      <td>1.262216</td>\n",
       "      <td>0.869494</td>\n",
       "      <td>0.381932</td>\n",
       "    </tr>\n",
       "  </tbody>\n",
       "</table>\n",
       "</div>"
      ],
      "text/plain": [
       "   index    Salary       Age  Working Hours\n",
       "0  Ellie -1.134398 -0.478012       0.792663\n",
       "1   Nick -0.611508 -1.216970      -0.057060\n",
       "2  Jonas  0.223953 -0.036190      -0.567778\n",
       "3   Sana  1.262216  0.869494       0.381932"
      ]
     },
     "execution_count": 153,
     "metadata": {},
     "output_type": "execute_result"
    }
   ],
   "source": [
    "newDataFrame.reset_index()"
   ]
  },
  {
   "cell_type": "code",
   "execution_count": 155,
   "id": "eb307097-2f7d-4c5f-8a1a-0d7b6a193a7f",
   "metadata": {},
   "outputs": [
    {
     "data": {
      "text/html": [
       "<div>\n",
       "<style scoped>\n",
       "    .dataframe tbody tr th:only-of-type {\n",
       "        vertical-align: middle;\n",
       "    }\n",
       "\n",
       "    .dataframe tbody tr th {\n",
       "        vertical-align: top;\n",
       "    }\n",
       "\n",
       "    .dataframe thead th {\n",
       "        text-align: right;\n",
       "    }\n",
       "</style>\n",
       "<table border=\"1\" class=\"dataframe\">\n",
       "  <thead>\n",
       "    <tr style=\"text-align: right;\">\n",
       "      <th></th>\n",
       "      <th>Salary</th>\n",
       "      <th>Age</th>\n",
       "      <th>Working Hours</th>\n",
       "    </tr>\n",
       "  </thead>\n",
       "  <tbody>\n",
       "    <tr>\n",
       "      <th>Ellie</th>\n",
       "      <td>-1.134398</td>\n",
       "      <td>-0.478012</td>\n",
       "      <td>0.792663</td>\n",
       "    </tr>\n",
       "    <tr>\n",
       "      <th>Nick</th>\n",
       "      <td>-0.611508</td>\n",
       "      <td>-1.216970</td>\n",
       "      <td>-0.057060</td>\n",
       "    </tr>\n",
       "    <tr>\n",
       "      <th>Jonas</th>\n",
       "      <td>0.223953</td>\n",
       "      <td>-0.036190</td>\n",
       "      <td>-0.567778</td>\n",
       "    </tr>\n",
       "    <tr>\n",
       "      <th>Sana</th>\n",
       "      <td>1.262216</td>\n",
       "      <td>0.869494</td>\n",
       "      <td>0.381932</td>\n",
       "    </tr>\n",
       "  </tbody>\n",
       "</table>\n",
       "</div>"
      ],
      "text/plain": [
       "         Salary       Age  Working Hours\n",
       "Ellie -1.134398 -0.478012       0.792663\n",
       "Nick  -0.611508 -1.216970      -0.057060\n",
       "Jonas  0.223953 -0.036190      -0.567778\n",
       "Sana   1.262216  0.869494       0.381932"
      ]
     },
     "execution_count": 155,
     "metadata": {},
     "output_type": "execute_result"
    }
   ],
   "source": [
    "newDataFrame"
   ]
  },
  {
   "cell_type": "code",
   "execution_count": 157,
   "id": "9d72cdda-b1d1-4c0c-bc9d-ea21299aeb34",
   "metadata": {},
   "outputs": [],
   "source": [
    "newIndexList=[\"E\",\"N\",\"J\",\"S\"]"
   ]
  },
  {
   "cell_type": "code",
   "execution_count": 159,
   "id": "6326b016-cf6f-4f43-b770-47d0cb8352a2",
   "metadata": {},
   "outputs": [],
   "source": [
    "newDataFrame[\"New Index\"]=newIndexList"
   ]
  },
  {
   "cell_type": "code",
   "execution_count": 161,
   "id": "a70cd9c3-03d6-4f84-a086-a08379c5c348",
   "metadata": {},
   "outputs": [
    {
     "data": {
      "text/html": [
       "<div>\n",
       "<style scoped>\n",
       "    .dataframe tbody tr th:only-of-type {\n",
       "        vertical-align: middle;\n",
       "    }\n",
       "\n",
       "    .dataframe tbody tr th {\n",
       "        vertical-align: top;\n",
       "    }\n",
       "\n",
       "    .dataframe thead th {\n",
       "        text-align: right;\n",
       "    }\n",
       "</style>\n",
       "<table border=\"1\" class=\"dataframe\">\n",
       "  <thead>\n",
       "    <tr style=\"text-align: right;\">\n",
       "      <th></th>\n",
       "      <th>Salary</th>\n",
       "      <th>Age</th>\n",
       "      <th>Working Hours</th>\n",
       "      <th>New Index</th>\n",
       "    </tr>\n",
       "  </thead>\n",
       "  <tbody>\n",
       "    <tr>\n",
       "      <th>Ellie</th>\n",
       "      <td>-1.134398</td>\n",
       "      <td>-0.478012</td>\n",
       "      <td>0.792663</td>\n",
       "      <td>E</td>\n",
       "    </tr>\n",
       "    <tr>\n",
       "      <th>Nick</th>\n",
       "      <td>-0.611508</td>\n",
       "      <td>-1.216970</td>\n",
       "      <td>-0.057060</td>\n",
       "      <td>N</td>\n",
       "    </tr>\n",
       "    <tr>\n",
       "      <th>Jonas</th>\n",
       "      <td>0.223953</td>\n",
       "      <td>-0.036190</td>\n",
       "      <td>-0.567778</td>\n",
       "      <td>J</td>\n",
       "    </tr>\n",
       "    <tr>\n",
       "      <th>Sana</th>\n",
       "      <td>1.262216</td>\n",
       "      <td>0.869494</td>\n",
       "      <td>0.381932</td>\n",
       "      <td>S</td>\n",
       "    </tr>\n",
       "  </tbody>\n",
       "</table>\n",
       "</div>"
      ],
      "text/plain": [
       "         Salary       Age  Working Hours New Index\n",
       "Ellie -1.134398 -0.478012       0.792663         E\n",
       "Nick  -0.611508 -1.216970      -0.057060         N\n",
       "Jonas  0.223953 -0.036190      -0.567778         J\n",
       "Sana   1.262216  0.869494       0.381932         S"
      ]
     },
     "execution_count": 161,
     "metadata": {},
     "output_type": "execute_result"
    }
   ],
   "source": [
    "newDataFrame"
   ]
  },
  {
   "cell_type": "code",
   "execution_count": 163,
   "id": "5dbe9117-09af-4098-9582-edf1cc6b0eb3",
   "metadata": {},
   "outputs": [
    {
     "data": {
      "text/html": [
       "<div>\n",
       "<style scoped>\n",
       "    .dataframe tbody tr th:only-of-type {\n",
       "        vertical-align: middle;\n",
       "    }\n",
       "\n",
       "    .dataframe tbody tr th {\n",
       "        vertical-align: top;\n",
       "    }\n",
       "\n",
       "    .dataframe thead th {\n",
       "        text-align: right;\n",
       "    }\n",
       "</style>\n",
       "<table border=\"1\" class=\"dataframe\">\n",
       "  <thead>\n",
       "    <tr style=\"text-align: right;\">\n",
       "      <th></th>\n",
       "      <th>Salary</th>\n",
       "      <th>Age</th>\n",
       "      <th>Working Hours</th>\n",
       "    </tr>\n",
       "    <tr>\n",
       "      <th>New Index</th>\n",
       "      <th></th>\n",
       "      <th></th>\n",
       "      <th></th>\n",
       "    </tr>\n",
       "  </thead>\n",
       "  <tbody>\n",
       "    <tr>\n",
       "      <th>E</th>\n",
       "      <td>-1.134398</td>\n",
       "      <td>-0.478012</td>\n",
       "      <td>0.792663</td>\n",
       "    </tr>\n",
       "    <tr>\n",
       "      <th>N</th>\n",
       "      <td>-0.611508</td>\n",
       "      <td>-1.216970</td>\n",
       "      <td>-0.057060</td>\n",
       "    </tr>\n",
       "    <tr>\n",
       "      <th>J</th>\n",
       "      <td>0.223953</td>\n",
       "      <td>-0.036190</td>\n",
       "      <td>-0.567778</td>\n",
       "    </tr>\n",
       "    <tr>\n",
       "      <th>S</th>\n",
       "      <td>1.262216</td>\n",
       "      <td>0.869494</td>\n",
       "      <td>0.381932</td>\n",
       "    </tr>\n",
       "  </tbody>\n",
       "</table>\n",
       "</div>"
      ],
      "text/plain": [
       "             Salary       Age  Working Hours\n",
       "New Index                                   \n",
       "E         -1.134398 -0.478012       0.792663\n",
       "N         -0.611508 -1.216970      -0.057060\n",
       "J          0.223953 -0.036190      -0.567778\n",
       "S          1.262216  0.869494       0.381932"
      ]
     },
     "execution_count": 163,
     "metadata": {},
     "output_type": "execute_result"
    }
   ],
   "source": [
    "newDataFrame.set_index(\"New Index\")"
   ]
  },
  {
   "cell_type": "code",
   "execution_count": 165,
   "id": "916c82b9-b24b-4565-a760-ddc1a442a133",
   "metadata": {},
   "outputs": [
    {
     "data": {
      "text/html": [
       "<div>\n",
       "<style scoped>\n",
       "    .dataframe tbody tr th:only-of-type {\n",
       "        vertical-align: middle;\n",
       "    }\n",
       "\n",
       "    .dataframe tbody tr th {\n",
       "        vertical-align: top;\n",
       "    }\n",
       "\n",
       "    .dataframe thead th {\n",
       "        text-align: right;\n",
       "    }\n",
       "</style>\n",
       "<table border=\"1\" class=\"dataframe\">\n",
       "  <thead>\n",
       "    <tr style=\"text-align: right;\">\n",
       "      <th></th>\n",
       "      <th>Salary</th>\n",
       "      <th>Age</th>\n",
       "      <th>Working Hours</th>\n",
       "      <th>New Index</th>\n",
       "    </tr>\n",
       "  </thead>\n",
       "  <tbody>\n",
       "    <tr>\n",
       "      <th>Ellie</th>\n",
       "      <td>-1.134398</td>\n",
       "      <td>-0.478012</td>\n",
       "      <td>0.792663</td>\n",
       "      <td>E</td>\n",
       "    </tr>\n",
       "    <tr>\n",
       "      <th>Nick</th>\n",
       "      <td>-0.611508</td>\n",
       "      <td>-1.216970</td>\n",
       "      <td>-0.057060</td>\n",
       "      <td>N</td>\n",
       "    </tr>\n",
       "    <tr>\n",
       "      <th>Jonas</th>\n",
       "      <td>0.223953</td>\n",
       "      <td>-0.036190</td>\n",
       "      <td>-0.567778</td>\n",
       "      <td>J</td>\n",
       "    </tr>\n",
       "    <tr>\n",
       "      <th>Sana</th>\n",
       "      <td>1.262216</td>\n",
       "      <td>0.869494</td>\n",
       "      <td>0.381932</td>\n",
       "      <td>S</td>\n",
       "    </tr>\n",
       "  </tbody>\n",
       "</table>\n",
       "</div>"
      ],
      "text/plain": [
       "         Salary       Age  Working Hours New Index\n",
       "Ellie -1.134398 -0.478012       0.792663         E\n",
       "Nick  -0.611508 -1.216970      -0.057060         N\n",
       "Jonas  0.223953 -0.036190      -0.567778         J\n",
       "Sana   1.262216  0.869494       0.381932         S"
      ]
     },
     "execution_count": 165,
     "metadata": {},
     "output_type": "execute_result"
    }
   ],
   "source": [
    "newDataFrame"
   ]
  },
  {
   "cell_type": "code",
   "execution_count": 167,
   "id": "4b538733-13c4-4ea5-bd3a-fda510238cae",
   "metadata": {},
   "outputs": [],
   "source": [
    "newDataFrame.set_index(\"New Index\",inplace=True)"
   ]
  },
  {
   "cell_type": "code",
   "execution_count": 169,
   "id": "0fd968fd-3638-4649-b5be-5715ed14ef30",
   "metadata": {},
   "outputs": [
    {
     "data": {
      "text/html": [
       "<div>\n",
       "<style scoped>\n",
       "    .dataframe tbody tr th:only-of-type {\n",
       "        vertical-align: middle;\n",
       "    }\n",
       "\n",
       "    .dataframe tbody tr th {\n",
       "        vertical-align: top;\n",
       "    }\n",
       "\n",
       "    .dataframe thead th {\n",
       "        text-align: right;\n",
       "    }\n",
       "</style>\n",
       "<table border=\"1\" class=\"dataframe\">\n",
       "  <thead>\n",
       "    <tr style=\"text-align: right;\">\n",
       "      <th></th>\n",
       "      <th>Salary</th>\n",
       "      <th>Age</th>\n",
       "      <th>Working Hours</th>\n",
       "    </tr>\n",
       "    <tr>\n",
       "      <th>New Index</th>\n",
       "      <th></th>\n",
       "      <th></th>\n",
       "      <th></th>\n",
       "    </tr>\n",
       "  </thead>\n",
       "  <tbody>\n",
       "    <tr>\n",
       "      <th>E</th>\n",
       "      <td>-1.134398</td>\n",
       "      <td>-0.478012</td>\n",
       "      <td>0.792663</td>\n",
       "    </tr>\n",
       "    <tr>\n",
       "      <th>N</th>\n",
       "      <td>-0.611508</td>\n",
       "      <td>-1.216970</td>\n",
       "      <td>-0.057060</td>\n",
       "    </tr>\n",
       "    <tr>\n",
       "      <th>J</th>\n",
       "      <td>0.223953</td>\n",
       "      <td>-0.036190</td>\n",
       "      <td>-0.567778</td>\n",
       "    </tr>\n",
       "    <tr>\n",
       "      <th>S</th>\n",
       "      <td>1.262216</td>\n",
       "      <td>0.869494</td>\n",
       "      <td>0.381932</td>\n",
       "    </tr>\n",
       "  </tbody>\n",
       "</table>\n",
       "</div>"
      ],
      "text/plain": [
       "             Salary       Age  Working Hours\n",
       "New Index                                   \n",
       "E         -1.134398 -0.478012       0.792663\n",
       "N         -0.611508 -1.216970      -0.057060\n",
       "J          0.223953 -0.036190      -0.567778\n",
       "S          1.262216  0.869494       0.381932"
      ]
     },
     "execution_count": 169,
     "metadata": {},
     "output_type": "execute_result"
    }
   ],
   "source": [
    "newDataFrame"
   ]
  },
  {
   "cell_type": "code",
   "execution_count": 173,
   "id": "d789e86d-8087-4c19-8166-9a97959e126f",
   "metadata": {},
   "outputs": [
    {
     "data": {
      "text/plain": [
       "Salary           0.223953\n",
       "Age             -0.036190\n",
       "Working Hours   -0.567778\n",
       "Name: J, dtype: float64"
      ]
     },
     "execution_count": 173,
     "metadata": {},
     "output_type": "execute_result"
    }
   ],
   "source": [
    "newDataFrame.loc[\"J\"]"
   ]
  },
  {
   "cell_type": "code",
   "execution_count": 199,
   "id": "24777d65-66ca-4a8b-9fd3-9f214a49b192",
   "metadata": {},
   "outputs": [],
   "source": [
    "firstIndex=[\"Simpson\",\"Simpson\",\"Simpson\",\"South Park\",\"South Park\",\"South Park\"]"
   ]
  },
  {
   "cell_type": "code",
   "execution_count": 201,
   "id": "849e1e05-19b0-4266-bde3-98b35457581b",
   "metadata": {},
   "outputs": [],
   "source": [
    "secondIndex=[\"Homer\",\"Bart\",\"Marge\",\"Cartman\",\"Kenny\",\"Kyle\",\"Kendall\"]"
   ]
  },
  {
   "cell_type": "code",
   "execution_count": 203,
   "id": "9577edcb-7c61-42d1-b7c8-fd09c4943660",
   "metadata": {},
   "outputs": [],
   "source": [
    "mixedIndex=list(zip(firstIndex,secondIndex))"
   ]
  },
  {
   "cell_type": "code",
   "execution_count": 205,
   "id": "13a0f531-1c62-4aec-ba76-20ebbe4bf642",
   "metadata": {},
   "outputs": [
    {
     "data": {
      "text/plain": [
       "[('Simpson', 'Homer'),\n",
       " ('Simpson', 'Bart'),\n",
       " ('Simpson', 'Marge'),\n",
       " ('South Park', 'Cartman'),\n",
       " ('South Park', 'Kenny'),\n",
       " ('South Park', 'Kyle')]"
      ]
     },
     "execution_count": 205,
     "metadata": {},
     "output_type": "execute_result"
    }
   ],
   "source": [
    "mixedIndex"
   ]
  },
  {
   "cell_type": "code",
   "execution_count": 207,
   "id": "a993ca0f-d3e7-493f-ba4d-65a5cf26ed48",
   "metadata": {},
   "outputs": [],
   "source": [
    "mixedIndex=pd.MultiIndex.from_tuples(mixedIndex)"
   ]
  },
  {
   "cell_type": "code",
   "execution_count": 209,
   "id": "f4bc3403-ef1a-4aea-aa71-9868a4599146",
   "metadata": {},
   "outputs": [
    {
     "data": {
      "text/plain": [
       "MultiIndex([(   'Simpson',   'Homer'),\n",
       "            (   'Simpson',    'Bart'),\n",
       "            (   'Simpson',   'Marge'),\n",
       "            ('South Park', 'Cartman'),\n",
       "            ('South Park',   'Kenny'),\n",
       "            ('South Park',    'Kyle')],\n",
       "           )"
      ]
     },
     "execution_count": 209,
     "metadata": {},
     "output_type": "execute_result"
    }
   ],
   "source": [
    "mixedIndex\n"
   ]
  },
  {
   "cell_type": "code",
   "execution_count": 211,
   "id": "d7dda0bd-ea30-4b44-a146-c0960ad33b22",
   "metadata": {},
   "outputs": [
    {
     "data": {
      "text/plain": [
       "pandas.core.indexes.multi.MultiIndex"
      ]
     },
     "execution_count": 211,
     "metadata": {},
     "output_type": "execute_result"
    }
   ],
   "source": [
    "type(mixedIndex)"
   ]
  },
  {
   "cell_type": "code",
   "execution_count": 213,
   "id": "ce41781d-b6fb-44cd-b6b2-bfc7a674af96",
   "metadata": {},
   "outputs": [],
   "source": [
    "myCartoonList=[[23,\"A\"],[12,\"B\"],[56,\"C\"],[87,\"D\"],[94,\"E\"],[252,\"F\"]]"
   ]
  },
  {
   "cell_type": "code",
   "execution_count": 215,
   "id": "54953985-95c9-438e-bd25-4c9ce5b1f48b",
   "metadata": {},
   "outputs": [],
   "source": [
    "cartoonList=np.array(myCartoonList)\n"
   ]
  },
  {
   "cell_type": "code",
   "execution_count": 217,
   "id": "e7ff93ed-ddee-4379-bfa5-a3c8e6479bc8",
   "metadata": {},
   "outputs": [
    {
     "data": {
      "text/plain": [
       "array([['23', 'A'],\n",
       "       ['12', 'B'],\n",
       "       ['56', 'C'],\n",
       "       ['87', 'D'],\n",
       "       ['94', 'E'],\n",
       "       ['252', 'F']], dtype='<U11')"
      ]
     },
     "execution_count": 217,
     "metadata": {},
     "output_type": "execute_result"
    }
   ],
   "source": [
    "cartoonList"
   ]
  },
  {
   "cell_type": "code",
   "execution_count": 219,
   "id": "9a2013c9-5ee2-4e73-a3bb-c974bc5aa081",
   "metadata": {},
   "outputs": [],
   "source": [
    "cartoonDataFrame=pd.DataFrame(cartoonList,index=mixedIndex,columns=[\"Age\",\"Occupation\"])"
   ]
  },
  {
   "cell_type": "code",
   "execution_count": 222,
   "id": "ca860a48-48fb-4c35-87cc-dd44f3dae00c",
   "metadata": {},
   "outputs": [
    {
     "data": {
      "text/html": [
       "<div>\n",
       "<style scoped>\n",
       "    .dataframe tbody tr th:only-of-type {\n",
       "        vertical-align: middle;\n",
       "    }\n",
       "\n",
       "    .dataframe tbody tr th {\n",
       "        vertical-align: top;\n",
       "    }\n",
       "\n",
       "    .dataframe thead th {\n",
       "        text-align: right;\n",
       "    }\n",
       "</style>\n",
       "<table border=\"1\" class=\"dataframe\">\n",
       "  <thead>\n",
       "    <tr style=\"text-align: right;\">\n",
       "      <th></th>\n",
       "      <th></th>\n",
       "      <th>Age</th>\n",
       "      <th>Occupation</th>\n",
       "    </tr>\n",
       "  </thead>\n",
       "  <tbody>\n",
       "    <tr>\n",
       "      <th rowspan=\"3\" valign=\"top\">Simpson</th>\n",
       "      <th>Homer</th>\n",
       "      <td>23</td>\n",
       "      <td>A</td>\n",
       "    </tr>\n",
       "    <tr>\n",
       "      <th>Bart</th>\n",
       "      <td>12</td>\n",
       "      <td>B</td>\n",
       "    </tr>\n",
       "    <tr>\n",
       "      <th>Marge</th>\n",
       "      <td>56</td>\n",
       "      <td>C</td>\n",
       "    </tr>\n",
       "    <tr>\n",
       "      <th rowspan=\"3\" valign=\"top\">South Park</th>\n",
       "      <th>Cartman</th>\n",
       "      <td>87</td>\n",
       "      <td>D</td>\n",
       "    </tr>\n",
       "    <tr>\n",
       "      <th>Kenny</th>\n",
       "      <td>94</td>\n",
       "      <td>E</td>\n",
       "    </tr>\n",
       "    <tr>\n",
       "      <th>Kyle</th>\n",
       "      <td>252</td>\n",
       "      <td>F</td>\n",
       "    </tr>\n",
       "  </tbody>\n",
       "</table>\n",
       "</div>"
      ],
      "text/plain": [
       "                    Age Occupation\n",
       "Simpson    Homer     23          A\n",
       "           Bart      12          B\n",
       "           Marge     56          C\n",
       "South Park Cartman   87          D\n",
       "           Kenny     94          E\n",
       "           Kyle     252          F"
      ]
     },
     "execution_count": 222,
     "metadata": {},
     "output_type": "execute_result"
    }
   ],
   "source": [
    "cartoonDataFrame"
   ]
  },
  {
   "cell_type": "code",
   "execution_count": 224,
   "id": "bec6c108-7fca-4579-a2bc-65d5f77f1ea8",
   "metadata": {},
   "outputs": [
    {
     "data": {
      "text/html": [
       "<div>\n",
       "<style scoped>\n",
       "    .dataframe tbody tr th:only-of-type {\n",
       "        vertical-align: middle;\n",
       "    }\n",
       "\n",
       "    .dataframe tbody tr th {\n",
       "        vertical-align: top;\n",
       "    }\n",
       "\n",
       "    .dataframe thead th {\n",
       "        text-align: right;\n",
       "    }\n",
       "</style>\n",
       "<table border=\"1\" class=\"dataframe\">\n",
       "  <thead>\n",
       "    <tr style=\"text-align: right;\">\n",
       "      <th></th>\n",
       "      <th>Age</th>\n",
       "      <th>Occupation</th>\n",
       "    </tr>\n",
       "  </thead>\n",
       "  <tbody>\n",
       "    <tr>\n",
       "      <th>Homer</th>\n",
       "      <td>23</td>\n",
       "      <td>A</td>\n",
       "    </tr>\n",
       "    <tr>\n",
       "      <th>Bart</th>\n",
       "      <td>12</td>\n",
       "      <td>B</td>\n",
       "    </tr>\n",
       "    <tr>\n",
       "      <th>Marge</th>\n",
       "      <td>56</td>\n",
       "      <td>C</td>\n",
       "    </tr>\n",
       "  </tbody>\n",
       "</table>\n",
       "</div>"
      ],
      "text/plain": [
       "      Age Occupation\n",
       "Homer  23          A\n",
       "Bart   12          B\n",
       "Marge  56          C"
      ]
     },
     "execution_count": 224,
     "metadata": {},
     "output_type": "execute_result"
    }
   ],
   "source": [
    "cartoonDataFrame.loc[\"Simpson\"]"
   ]
  },
  {
   "cell_type": "code",
   "execution_count": 226,
   "id": "bd1307ec-8fda-41c5-84c3-71ed6dc7931b",
   "metadata": {},
   "outputs": [
    {
     "data": {
      "text/html": [
       "<div>\n",
       "<style scoped>\n",
       "    .dataframe tbody tr th:only-of-type {\n",
       "        vertical-align: middle;\n",
       "    }\n",
       "\n",
       "    .dataframe tbody tr th {\n",
       "        vertical-align: top;\n",
       "    }\n",
       "\n",
       "    .dataframe thead th {\n",
       "        text-align: right;\n",
       "    }\n",
       "</style>\n",
       "<table border=\"1\" class=\"dataframe\">\n",
       "  <thead>\n",
       "    <tr style=\"text-align: right;\">\n",
       "      <th></th>\n",
       "      <th>Age</th>\n",
       "      <th>Occupation</th>\n",
       "    </tr>\n",
       "  </thead>\n",
       "  <tbody>\n",
       "    <tr>\n",
       "      <th>Cartman</th>\n",
       "      <td>87</td>\n",
       "      <td>D</td>\n",
       "    </tr>\n",
       "    <tr>\n",
       "      <th>Kenny</th>\n",
       "      <td>94</td>\n",
       "      <td>E</td>\n",
       "    </tr>\n",
       "    <tr>\n",
       "      <th>Kyle</th>\n",
       "      <td>252</td>\n",
       "      <td>F</td>\n",
       "    </tr>\n",
       "  </tbody>\n",
       "</table>\n",
       "</div>"
      ],
      "text/plain": [
       "         Age Occupation\n",
       "Cartman   87          D\n",
       "Kenny     94          E\n",
       "Kyle     252          F"
      ]
     },
     "execution_count": 226,
     "metadata": {},
     "output_type": "execute_result"
    }
   ],
   "source": [
    "cartoonDataFrame.loc[\"South Park\"]"
   ]
  },
  {
   "cell_type": "code",
   "execution_count": 228,
   "id": "6620a3ac-ddf7-48cd-a5a9-4b5beedebd02",
   "metadata": {},
   "outputs": [
    {
     "data": {
      "text/plain": [
       "Age           252\n",
       "Occupation      F\n",
       "Name: Kyle, dtype: object"
      ]
     },
     "execution_count": 228,
     "metadata": {},
     "output_type": "execute_result"
    }
   ],
   "source": [
    "cartoonDataFrame.loc[\"South Park\"].loc[\"Kyle\"]"
   ]
  },
  {
   "cell_type": "code",
   "execution_count": 230,
   "id": "6c869b69-ef2e-480f-8df6-3140732e287c",
   "metadata": {},
   "outputs": [],
   "source": [
    "cartoonDataFrame.index.names=[\"Cartoon Name\",\"Char\"]"
   ]
  },
  {
   "cell_type": "code",
   "execution_count": 232,
   "id": "e18286cf-10ea-43ef-9cea-4854362336bd",
   "metadata": {},
   "outputs": [
    {
     "data": {
      "text/html": [
       "<div>\n",
       "<style scoped>\n",
       "    .dataframe tbody tr th:only-of-type {\n",
       "        vertical-align: middle;\n",
       "    }\n",
       "\n",
       "    .dataframe tbody tr th {\n",
       "        vertical-align: top;\n",
       "    }\n",
       "\n",
       "    .dataframe thead th {\n",
       "        text-align: right;\n",
       "    }\n",
       "</style>\n",
       "<table border=\"1\" class=\"dataframe\">\n",
       "  <thead>\n",
       "    <tr style=\"text-align: right;\">\n",
       "      <th></th>\n",
       "      <th></th>\n",
       "      <th>Age</th>\n",
       "      <th>Occupation</th>\n",
       "    </tr>\n",
       "    <tr>\n",
       "      <th>Cartoon Name</th>\n",
       "      <th>Char</th>\n",
       "      <th></th>\n",
       "      <th></th>\n",
       "    </tr>\n",
       "  </thead>\n",
       "  <tbody>\n",
       "    <tr>\n",
       "      <th rowspan=\"3\" valign=\"top\">Simpson</th>\n",
       "      <th>Homer</th>\n",
       "      <td>23</td>\n",
       "      <td>A</td>\n",
       "    </tr>\n",
       "    <tr>\n",
       "      <th>Bart</th>\n",
       "      <td>12</td>\n",
       "      <td>B</td>\n",
       "    </tr>\n",
       "    <tr>\n",
       "      <th>Marge</th>\n",
       "      <td>56</td>\n",
       "      <td>C</td>\n",
       "    </tr>\n",
       "    <tr>\n",
       "      <th rowspan=\"3\" valign=\"top\">South Park</th>\n",
       "      <th>Cartman</th>\n",
       "      <td>87</td>\n",
       "      <td>D</td>\n",
       "    </tr>\n",
       "    <tr>\n",
       "      <th>Kenny</th>\n",
       "      <td>94</td>\n",
       "      <td>E</td>\n",
       "    </tr>\n",
       "    <tr>\n",
       "      <th>Kyle</th>\n",
       "      <td>252</td>\n",
       "      <td>F</td>\n",
       "    </tr>\n",
       "  </tbody>\n",
       "</table>\n",
       "</div>"
      ],
      "text/plain": [
       "                      Age Occupation\n",
       "Cartoon Name Char                   \n",
       "Simpson      Homer     23          A\n",
       "             Bart      12          B\n",
       "             Marge     56          C\n",
       "South Park   Cartman   87          D\n",
       "             Kenny     94          E\n",
       "             Kyle     252          F"
      ]
     },
     "execution_count": 232,
     "metadata": {},
     "output_type": "execute_result"
    }
   ],
   "source": [
    "cartoonDataFrame"
   ]
  },
  {
   "cell_type": "code",
   "execution_count": null,
   "id": "273a12f1-bd32-45d2-8af3-9284497c0038",
   "metadata": {},
   "outputs": [],
   "source": []
  }
 ],
 "metadata": {
  "kernelspec": {
   "display_name": "Python 3 (ipykernel)",
   "language": "python",
   "name": "python3"
  },
  "language_info": {
   "codemirror_mode": {
    "name": "ipython",
    "version": 3
   },
   "file_extension": ".py",
   "mimetype": "text/x-python",
   "name": "python",
   "nbconvert_exporter": "python",
   "pygments_lexer": "ipython3",
   "version": "3.12.7"
  }
 },
 "nbformat": 4,
 "nbformat_minor": 5
}
