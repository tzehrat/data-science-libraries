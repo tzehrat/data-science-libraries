{
 "cells": [
  {
   "cell_type": "code",
   "execution_count": 1,
   "id": "d56791c5-c8b6-49e4-ad4c-29e3c1ed8a2f",
   "metadata": {},
   "outputs": [],
   "source": [
    "import numpy as np\n",
    "import pandas as pd"
   ]
  },
  {
   "cell_type": "markdown",
   "id": "9e7a832f-f7f7-4466-9141-6eb3216fdd43",
   "metadata": {},
   "source": [
    "## Series"
   ]
  },
  {
   "cell_type": "code",
   "execution_count": 4,
   "id": "1458e388-8190-4a36-8ab9-633fa51fcb57",
   "metadata": {},
   "outputs": [],
   "source": [
    "myDict={\"John\":50,\"Nick\":70,\"Luna\":35}"
   ]
  },
  {
   "cell_type": "code",
   "execution_count": 6,
   "id": "ad65f88d-db42-420d-8731-a45db2454852",
   "metadata": {},
   "outputs": [
    {
     "data": {
      "text/plain": [
       "John    50\n",
       "Nick    70\n",
       "Luna    35\n",
       "dtype: int64"
      ]
     },
     "execution_count": 6,
     "metadata": {},
     "output_type": "execute_result"
    }
   ],
   "source": [
    "pd.Series(myDict)"
   ]
  },
  {
   "cell_type": "code",
   "execution_count": 10,
   "id": "d35b4bed-ce22-4639-b70a-a1cd11dc54a2",
   "metadata": {},
   "outputs": [
    {
     "data": {
      "text/plain": [
       "pandas.core.series.Series"
      ]
     },
     "execution_count": 10,
     "metadata": {},
     "output_type": "execute_result"
    }
   ],
   "source": [
    "type(pd.Series(myDict))"
   ]
  },
  {
   "cell_type": "code",
   "execution_count": 12,
   "id": "b32a2119-7cd7-49b3-b6a3-a31cd2be87b9",
   "metadata": {},
   "outputs": [],
   "source": [
    "myAges=[50,70,35]\n",
    "myNames=[\"John\",\"Nick\",\"Luna\"]"
   ]
  },
  {
   "cell_type": "code",
   "execution_count": 14,
   "id": "5e9c517b-0709-469b-83e5-76ea729c7407",
   "metadata": {},
   "outputs": [
    {
     "data": {
      "text/plain": [
       "0    50\n",
       "1    70\n",
       "2    35\n",
       "dtype: int64"
      ]
     },
     "execution_count": 14,
     "metadata": {},
     "output_type": "execute_result"
    }
   ],
   "source": [
    "pd.Series(myAges)"
   ]
  },
  {
   "cell_type": "code",
   "execution_count": 16,
   "id": "656512da-94ac-4571-995f-6099171a648d",
   "metadata": {},
   "outputs": [
    {
     "data": {
      "text/plain": [
       "John    50\n",
       "Nick    70\n",
       "Luna    35\n",
       "dtype: int64"
      ]
     },
     "execution_count": 16,
     "metadata": {},
     "output_type": "execute_result"
    }
   ],
   "source": [
    "pd.Series(myAges,myNames)"
   ]
  },
  {
   "cell_type": "code",
   "execution_count": 18,
   "id": "00e3ee05-ed22-4977-91dc-52640f8a7e49",
   "metadata": {},
   "outputs": [
    {
     "data": {
      "text/plain": [
       "John    50\n",
       "Nick    70\n",
       "Luna    35\n",
       "dtype: int64"
      ]
     },
     "execution_count": 18,
     "metadata": {},
     "output_type": "execute_result"
    }
   ],
   "source": [
    "pd.Series(data=myAges,index=myNames)"
   ]
  },
  {
   "cell_type": "code",
   "execution_count": 22,
   "id": "919cc15e-ed10-4625-b046-4a3e7d4f5d56",
   "metadata": {},
   "outputs": [],
   "source": [
    "numpyArray=np.array([50,70,35])"
   ]
  },
  {
   "cell_type": "code",
   "execution_count": 24,
   "id": "87f26ff7-c31f-44bf-adf7-6ddc7a7e79d4",
   "metadata": {},
   "outputs": [
    {
     "data": {
      "text/plain": [
       "array([50, 70, 35])"
      ]
     },
     "execution_count": 24,
     "metadata": {},
     "output_type": "execute_result"
    }
   ],
   "source": [
    "numpyArray"
   ]
  },
  {
   "cell_type": "code",
   "execution_count": 26,
   "id": "7c351c89-926c-4286-8c8d-6021c94dd033",
   "metadata": {},
   "outputs": [
    {
     "data": {
      "text/plain": [
       "0    50\n",
       "1    70\n",
       "2    35\n",
       "dtype: int32"
      ]
     },
     "execution_count": 26,
     "metadata": {},
     "output_type": "execute_result"
    }
   ],
   "source": [
    "pd.Series(numpyArray)"
   ]
  },
  {
   "cell_type": "code",
   "execution_count": 28,
   "id": "5bdc2d83-274c-4d59-abe5-85acb2c48ca3",
   "metadata": {},
   "outputs": [
    {
     "data": {
      "text/plain": [
       "John    50\n",
       "Nick    70\n",
       "Luna    35\n",
       "dtype: int32"
      ]
     },
     "execution_count": 28,
     "metadata": {},
     "output_type": "execute_result"
    }
   ],
   "source": [
    "pd.Series(numpyArray,myNames)"
   ]
  },
  {
   "cell_type": "code",
   "execution_count": 35,
   "id": "b8b59541-4a2d-4b0c-a464-e2ff60252023",
   "metadata": {},
   "outputs": [
    {
     "data": {
      "text/plain": [
       "1    Jonnathan\n",
       "2        Emily\n",
       "3        Miley\n",
       "dtype: object"
      ]
     },
     "execution_count": 35,
     "metadata": {},
     "output_type": "execute_result"
    }
   ],
   "source": [
    "pd.Series([\"Jonnathan\",\"Emily\",\"Miley\"],[1,2,3])"
   ]
  },
  {
   "cell_type": "code",
   "execution_count": 37,
   "id": "e62b1548-83ed-45da-8699-3db25c541f9d",
   "metadata": {},
   "outputs": [],
   "source": [
    "competitionResult=pd.Series([10,5,8],[\"Lane\",\"Dave\",\"Dean\"])"
   ]
  },
  {
   "cell_type": "code",
   "execution_count": 39,
   "id": "402b7f1c-8461-499e-b21d-292fe6d6a3ab",
   "metadata": {},
   "outputs": [
    {
     "data": {
      "text/plain": [
       "Lane    10\n",
       "Dave     5\n",
       "Dean     8\n",
       "dtype: int64"
      ]
     },
     "execution_count": 39,
     "metadata": {},
     "output_type": "execute_result"
    }
   ],
   "source": [
    "competitionResult"
   ]
  },
  {
   "cell_type": "code",
   "execution_count": 41,
   "id": "8bf3ca5a-072a-4991-af30-770d0321dd51",
   "metadata": {},
   "outputs": [],
   "source": [
    "competitionResult2=pd.Series([100,50,80],[\"Lane\",\"Dave\",\"Dean\"])"
   ]
  },
  {
   "cell_type": "code",
   "execution_count": 43,
   "id": "d84eee02-c76d-456e-9385-abf57ae8ff65",
   "metadata": {},
   "outputs": [
    {
     "data": {
      "text/plain": [
       "Lane    100\n",
       "Dave     50\n",
       "Dean     80\n",
       "dtype: int64"
      ]
     },
     "execution_count": 43,
     "metadata": {},
     "output_type": "execute_result"
    }
   ],
   "source": [
    "competitionResult2"
   ]
  },
  {
   "cell_type": "code",
   "execution_count": 45,
   "id": "56533d3f-81aa-407f-a45a-d2580170fefe",
   "metadata": {},
   "outputs": [
    {
     "data": {
      "text/plain": [
       "100"
      ]
     },
     "execution_count": 45,
     "metadata": {},
     "output_type": "execute_result"
    }
   ],
   "source": [
    "competitionResult2[\"Lane\"]"
   ]
  },
  {
   "cell_type": "code",
   "execution_count": 47,
   "id": "5b8f4cc1-d4f2-41d4-bbcb-21eacf2d861c",
   "metadata": {},
   "outputs": [],
   "source": [
    "result=competitionResult+competitionResult2"
   ]
  },
  {
   "cell_type": "code",
   "execution_count": 49,
   "id": "79f634c2-4af3-4262-81d4-7880e9d8c11c",
   "metadata": {},
   "outputs": [
    {
     "data": {
      "text/plain": [
       "Lane    110\n",
       "Dave     55\n",
       "Dean     88\n",
       "dtype: int64"
      ]
     },
     "execution_count": 49,
     "metadata": {},
     "output_type": "execute_result"
    }
   ],
   "source": [
    "result"
   ]
  },
  {
   "cell_type": "code",
   "execution_count": 51,
   "id": "f2b5894a-7364-4e82-b9ea-2ce4ef574c04",
   "metadata": {},
   "outputs": [],
   "source": [
    "otherSeries=pd.Series([20,30,40,50],[\"a\",\"b\",\"c\",\"d\"])"
   ]
  },
  {
   "cell_type": "code",
   "execution_count": 55,
   "id": "89368f3e-0d2b-425f-ade8-f8fa2e53d164",
   "metadata": {},
   "outputs": [],
   "source": [
    "otherSeries2=pd.Series([10,4,2,5,1],[\"a\",\"c\",\"f\",\"g\",\"d\"])"
   ]
  },
  {
   "cell_type": "code",
   "execution_count": 57,
   "id": "e679de41-8fff-4189-aa5a-458f44ffa2a2",
   "metadata": {},
   "outputs": [
    {
     "data": {
      "text/plain": [
       "a    20\n",
       "b    30\n",
       "c    40\n",
       "d    50\n",
       "dtype: int64"
      ]
     },
     "execution_count": 57,
     "metadata": {},
     "output_type": "execute_result"
    }
   ],
   "source": [
    "otherSeries"
   ]
  },
  {
   "cell_type": "code",
   "execution_count": 59,
   "id": "a7b21747-6108-4a4d-a84f-38cd977928fb",
   "metadata": {},
   "outputs": [
    {
     "data": {
      "text/plain": [
       "a    10\n",
       "c     4\n",
       "f     2\n",
       "g     5\n",
       "d     1\n",
       "dtype: int64"
      ]
     },
     "execution_count": 59,
     "metadata": {},
     "output_type": "execute_result"
    }
   ],
   "source": [
    "otherSeries2"
   ]
  },
  {
   "cell_type": "code",
   "execution_count": 61,
   "id": "b5cf2fbe-21f0-44ee-8834-e3c211262ecb",
   "metadata": {},
   "outputs": [
    {
     "data": {
      "text/plain": [
       "a    30.0\n",
       "b     NaN\n",
       "c    44.0\n",
       "d    51.0\n",
       "f     NaN\n",
       "g     NaN\n",
       "dtype: float64"
      ]
     },
     "execution_count": 61,
     "metadata": {},
     "output_type": "execute_result"
    }
   ],
   "source": [
    "otherSeries+otherSeries2\n"
   ]
  },
  {
   "cell_type": "code",
   "execution_count": null,
   "id": "3d356628-6756-4e3f-bfed-0e1ad52f7ba8",
   "metadata": {},
   "outputs": [],
   "source": []
  }
 ],
 "metadata": {
  "kernelspec": {
   "display_name": "Python 3 (ipykernel)",
   "language": "python",
   "name": "python3"
  },
  "language_info": {
   "codemirror_mode": {
    "name": "ipython",
    "version": 3
   },
   "file_extension": ".py",
   "mimetype": "text/x-python",
   "name": "python",
   "nbconvert_exporter": "python",
   "pygments_lexer": "ipython3",
   "version": "3.12.7"
  }
 },
 "nbformat": 4,
 "nbformat_minor": 5
}
