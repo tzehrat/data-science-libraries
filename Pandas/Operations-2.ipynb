{
 "cells": [
  {
   "cell_type": "code",
   "execution_count": 3,
   "id": "a1a7453e-bdee-4527-a7eb-9e9bee3aa675",
   "metadata": {},
   "outputs": [],
   "source": [
    "import pandas as pd\n",
    "import numpy as np"
   ]
  },
  {
   "cell_type": "code",
   "execution_count": 80,
   "id": "42e4ef48-7cfb-4d72-99c6-a3d92ea142c0",
   "metadata": {},
   "outputs": [],
   "source": [
    "dict_1={\n",
    "    \"Name\":[\"Barney\",\"Ted\",\"Robin\",\"Marshall\"],\n",
    "    \"Sport\":[\"Running\",\"Swimming\",\"Running\",\"Basketball\"],\n",
    "    \"Calories\":[134,356,563,455]\n",
    "}"
   ]
  },
  {
   "cell_type": "code",
   "execution_count": 82,
   "id": "f333be0d-5e86-46db-9be4-8e0e6d0cbf87",
   "metadata": {},
   "outputs": [],
   "source": [
    "dataFrame_1=pd.DataFrame(dict_1,index=[0,1,2,3])"
   ]
  },
  {
   "cell_type": "code",
   "execution_count": 84,
   "id": "61533842-dd16-43cc-955a-c872ef9e675d",
   "metadata": {},
   "outputs": [
    {
     "data": {
      "text/html": [
       "<div>\n",
       "<style scoped>\n",
       "    .dataframe tbody tr th:only-of-type {\n",
       "        vertical-align: middle;\n",
       "    }\n",
       "\n",
       "    .dataframe tbody tr th {\n",
       "        vertical-align: top;\n",
       "    }\n",
       "\n",
       "    .dataframe thead th {\n",
       "        text-align: right;\n",
       "    }\n",
       "</style>\n",
       "<table border=\"1\" class=\"dataframe\">\n",
       "  <thead>\n",
       "    <tr style=\"text-align: right;\">\n",
       "      <th></th>\n",
       "      <th>Name</th>\n",
       "      <th>Sport</th>\n",
       "      <th>Calories</th>\n",
       "    </tr>\n",
       "  </thead>\n",
       "  <tbody>\n",
       "    <tr>\n",
       "      <th>0</th>\n",
       "      <td>Barney</td>\n",
       "      <td>Running</td>\n",
       "      <td>134</td>\n",
       "    </tr>\n",
       "    <tr>\n",
       "      <th>1</th>\n",
       "      <td>Ted</td>\n",
       "      <td>Swimming</td>\n",
       "      <td>356</td>\n",
       "    </tr>\n",
       "    <tr>\n",
       "      <th>2</th>\n",
       "      <td>Robin</td>\n",
       "      <td>Running</td>\n",
       "      <td>563</td>\n",
       "    </tr>\n",
       "    <tr>\n",
       "      <th>3</th>\n",
       "      <td>Marshall</td>\n",
       "      <td>Basketball</td>\n",
       "      <td>455</td>\n",
       "    </tr>\n",
       "  </tbody>\n",
       "</table>\n",
       "</div>"
      ],
      "text/plain": [
       "       Name       Sport  Calories\n",
       "0    Barney     Running       134\n",
       "1       Ted    Swimming       356\n",
       "2     Robin     Running       563\n",
       "3  Marshall  Basketball       455"
      ]
     },
     "execution_count": 84,
     "metadata": {},
     "output_type": "execute_result"
    }
   ],
   "source": [
    "dataFrame_1"
   ]
  },
  {
   "cell_type": "code",
   "execution_count": 86,
   "id": "7cc3fc7e-8dff-483a-ae6a-64418191c28e",
   "metadata": {},
   "outputs": [],
   "source": [
    "dict_2={\n",
    "    \"Name\":[\"Claire\",\"Phil\",\"Luke\",\"Alex\",\"Haley\"],\n",
    "    \"Sport\":[\"Archery\",\"Athletics\",\"Billiards\",\"Bowling\",\"Climbing\"],\n",
    "    \"Calories\":[114,556,993,235,222]\n",
    "}"
   ]
  },
  {
   "cell_type": "code",
   "execution_count": 88,
   "id": "f8750246-0583-4dab-97f8-0accccb952ec",
   "metadata": {},
   "outputs": [],
   "source": [
    "dataFrame_2=pd.DataFrame(dict_2,index=[4,5,6,7,8])"
   ]
  },
  {
   "cell_type": "code",
   "execution_count": 90,
   "id": "92b9f83e-dac8-4f1c-91f4-0650b083fc76",
   "metadata": {},
   "outputs": [
    {
     "data": {
      "text/html": [
       "<div>\n",
       "<style scoped>\n",
       "    .dataframe tbody tr th:only-of-type {\n",
       "        vertical-align: middle;\n",
       "    }\n",
       "\n",
       "    .dataframe tbody tr th {\n",
       "        vertical-align: top;\n",
       "    }\n",
       "\n",
       "    .dataframe thead th {\n",
       "        text-align: right;\n",
       "    }\n",
       "</style>\n",
       "<table border=\"1\" class=\"dataframe\">\n",
       "  <thead>\n",
       "    <tr style=\"text-align: right;\">\n",
       "      <th></th>\n",
       "      <th>Name</th>\n",
       "      <th>Sport</th>\n",
       "      <th>Calories</th>\n",
       "    </tr>\n",
       "  </thead>\n",
       "  <tbody>\n",
       "    <tr>\n",
       "      <th>4</th>\n",
       "      <td>Claire</td>\n",
       "      <td>Archery</td>\n",
       "      <td>114</td>\n",
       "    </tr>\n",
       "    <tr>\n",
       "      <th>5</th>\n",
       "      <td>Phil</td>\n",
       "      <td>Athletics</td>\n",
       "      <td>556</td>\n",
       "    </tr>\n",
       "    <tr>\n",
       "      <th>6</th>\n",
       "      <td>Luke</td>\n",
       "      <td>Billiards</td>\n",
       "      <td>993</td>\n",
       "    </tr>\n",
       "    <tr>\n",
       "      <th>7</th>\n",
       "      <td>Alex</td>\n",
       "      <td>Bowling</td>\n",
       "      <td>235</td>\n",
       "    </tr>\n",
       "    <tr>\n",
       "      <th>8</th>\n",
       "      <td>Haley</td>\n",
       "      <td>Climbing</td>\n",
       "      <td>222</td>\n",
       "    </tr>\n",
       "  </tbody>\n",
       "</table>\n",
       "</div>"
      ],
      "text/plain": [
       "     Name      Sport  Calories\n",
       "4  Claire    Archery       114\n",
       "5    Phil  Athletics       556\n",
       "6    Luke  Billiards       993\n",
       "7    Alex    Bowling       235\n",
       "8   Haley   Climbing       222"
      ]
     },
     "execution_count": 90,
     "metadata": {},
     "output_type": "execute_result"
    }
   ],
   "source": [
    "dataFrame_2"
   ]
  },
  {
   "cell_type": "code",
   "execution_count": 92,
   "id": "4ef23306-c2a1-409f-82fc-9b596f281ccf",
   "metadata": {},
   "outputs": [],
   "source": [
    "dict_3={\n",
    "    \"Name\":[\"Gloria\",\"Jay\",\"Manny\",\"Stella\",\"Joe\"],\n",
    "    \"Sport\":[\"Fitness\",\"Golf\",\"Hokey\",\"Parkour\",\"Running\"],\n",
    "    \"Calories\":[432,765,984,123,134]\n",
    "}"
   ]
  },
  {
   "cell_type": "code",
   "execution_count": 94,
   "id": "f79f48c7-378d-47ec-bdbf-121df3d5d115",
   "metadata": {},
   "outputs": [],
   "source": [
    "dataFrame_3=pd.DataFrame(dict_3,index=[9,10,11,12,13])"
   ]
  },
  {
   "cell_type": "code",
   "execution_count": 96,
   "id": "30b107c8-eb95-476e-9268-e0ef6d599c63",
   "metadata": {},
   "outputs": [
    {
     "data": {
      "text/html": [
       "<div>\n",
       "<style scoped>\n",
       "    .dataframe tbody tr th:only-of-type {\n",
       "        vertical-align: middle;\n",
       "    }\n",
       "\n",
       "    .dataframe tbody tr th {\n",
       "        vertical-align: top;\n",
       "    }\n",
       "\n",
       "    .dataframe thead th {\n",
       "        text-align: right;\n",
       "    }\n",
       "</style>\n",
       "<table border=\"1\" class=\"dataframe\">\n",
       "  <thead>\n",
       "    <tr style=\"text-align: right;\">\n",
       "      <th></th>\n",
       "      <th>Name</th>\n",
       "      <th>Sport</th>\n",
       "      <th>Calories</th>\n",
       "    </tr>\n",
       "  </thead>\n",
       "  <tbody>\n",
       "    <tr>\n",
       "      <th>9</th>\n",
       "      <td>Gloria</td>\n",
       "      <td>Fitness</td>\n",
       "      <td>432</td>\n",
       "    </tr>\n",
       "    <tr>\n",
       "      <th>10</th>\n",
       "      <td>Jay</td>\n",
       "      <td>Golf</td>\n",
       "      <td>765</td>\n",
       "    </tr>\n",
       "    <tr>\n",
       "      <th>11</th>\n",
       "      <td>Manny</td>\n",
       "      <td>Hokey</td>\n",
       "      <td>984</td>\n",
       "    </tr>\n",
       "    <tr>\n",
       "      <th>12</th>\n",
       "      <td>Stella</td>\n",
       "      <td>Parkour</td>\n",
       "      <td>123</td>\n",
       "    </tr>\n",
       "    <tr>\n",
       "      <th>13</th>\n",
       "      <td>Joe</td>\n",
       "      <td>Running</td>\n",
       "      <td>134</td>\n",
       "    </tr>\n",
       "  </tbody>\n",
       "</table>\n",
       "</div>"
      ],
      "text/plain": [
       "      Name    Sport  Calories\n",
       "9   Gloria  Fitness       432\n",
       "10     Jay     Golf       765\n",
       "11   Manny    Hokey       984\n",
       "12  Stella  Parkour       123\n",
       "13     Joe  Running       134"
      ]
     },
     "execution_count": 96,
     "metadata": {},
     "output_type": "execute_result"
    }
   ],
   "source": [
    "dataFrame_3"
   ]
  },
  {
   "cell_type": "markdown",
   "id": "a29cd51e-5245-4274-9568-fdbaad127ab8",
   "metadata": {},
   "source": [
    "## Concatenation"
   ]
  },
  {
   "cell_type": "code",
   "execution_count": 99,
   "id": "7229bad9-4927-43a7-b19e-b72d5b5cd30c",
   "metadata": {},
   "outputs": [
    {
     "data": {
      "text/html": [
       "<div>\n",
       "<style scoped>\n",
       "    .dataframe tbody tr th:only-of-type {\n",
       "        vertical-align: middle;\n",
       "    }\n",
       "\n",
       "    .dataframe tbody tr th {\n",
       "        vertical-align: top;\n",
       "    }\n",
       "\n",
       "    .dataframe thead th {\n",
       "        text-align: right;\n",
       "    }\n",
       "</style>\n",
       "<table border=\"1\" class=\"dataframe\">\n",
       "  <thead>\n",
       "    <tr style=\"text-align: right;\">\n",
       "      <th></th>\n",
       "      <th>Name</th>\n",
       "      <th>Sport</th>\n",
       "      <th>Calories</th>\n",
       "    </tr>\n",
       "  </thead>\n",
       "  <tbody>\n",
       "    <tr>\n",
       "      <th>0</th>\n",
       "      <td>Barney</td>\n",
       "      <td>Running</td>\n",
       "      <td>134</td>\n",
       "    </tr>\n",
       "    <tr>\n",
       "      <th>1</th>\n",
       "      <td>Ted</td>\n",
       "      <td>Swimming</td>\n",
       "      <td>356</td>\n",
       "    </tr>\n",
       "    <tr>\n",
       "      <th>2</th>\n",
       "      <td>Robin</td>\n",
       "      <td>Running</td>\n",
       "      <td>563</td>\n",
       "    </tr>\n",
       "    <tr>\n",
       "      <th>3</th>\n",
       "      <td>Marshall</td>\n",
       "      <td>Basketball</td>\n",
       "      <td>455</td>\n",
       "    </tr>\n",
       "    <tr>\n",
       "      <th>4</th>\n",
       "      <td>Claire</td>\n",
       "      <td>Archery</td>\n",
       "      <td>114</td>\n",
       "    </tr>\n",
       "    <tr>\n",
       "      <th>5</th>\n",
       "      <td>Phil</td>\n",
       "      <td>Athletics</td>\n",
       "      <td>556</td>\n",
       "    </tr>\n",
       "    <tr>\n",
       "      <th>6</th>\n",
       "      <td>Luke</td>\n",
       "      <td>Billiards</td>\n",
       "      <td>993</td>\n",
       "    </tr>\n",
       "    <tr>\n",
       "      <th>7</th>\n",
       "      <td>Alex</td>\n",
       "      <td>Bowling</td>\n",
       "      <td>235</td>\n",
       "    </tr>\n",
       "    <tr>\n",
       "      <th>8</th>\n",
       "      <td>Haley</td>\n",
       "      <td>Climbing</td>\n",
       "      <td>222</td>\n",
       "    </tr>\n",
       "    <tr>\n",
       "      <th>9</th>\n",
       "      <td>Gloria</td>\n",
       "      <td>Fitness</td>\n",
       "      <td>432</td>\n",
       "    </tr>\n",
       "    <tr>\n",
       "      <th>10</th>\n",
       "      <td>Jay</td>\n",
       "      <td>Golf</td>\n",
       "      <td>765</td>\n",
       "    </tr>\n",
       "    <tr>\n",
       "      <th>11</th>\n",
       "      <td>Manny</td>\n",
       "      <td>Hokey</td>\n",
       "      <td>984</td>\n",
       "    </tr>\n",
       "    <tr>\n",
       "      <th>12</th>\n",
       "      <td>Stella</td>\n",
       "      <td>Parkour</td>\n",
       "      <td>123</td>\n",
       "    </tr>\n",
       "    <tr>\n",
       "      <th>13</th>\n",
       "      <td>Joe</td>\n",
       "      <td>Running</td>\n",
       "      <td>134</td>\n",
       "    </tr>\n",
       "  </tbody>\n",
       "</table>\n",
       "</div>"
      ],
      "text/plain": [
       "        Name       Sport  Calories\n",
       "0     Barney     Running       134\n",
       "1        Ted    Swimming       356\n",
       "2      Robin     Running       563\n",
       "3   Marshall  Basketball       455\n",
       "4     Claire     Archery       114\n",
       "5       Phil   Athletics       556\n",
       "6       Luke   Billiards       993\n",
       "7       Alex     Bowling       235\n",
       "8      Haley    Climbing       222\n",
       "9     Gloria     Fitness       432\n",
       "10       Jay        Golf       765\n",
       "11     Manny       Hokey       984\n",
       "12    Stella     Parkour       123\n",
       "13       Joe     Running       134"
      ]
     },
     "execution_count": 99,
     "metadata": {},
     "output_type": "execute_result"
    }
   ],
   "source": [
    "pd.concat([dataFrame_1,dataFrame_2,dataFrame_3],axis=0) ## joins data side by side if axis is specified as 1"
   ]
  },
  {
   "cell_type": "markdown",
   "id": "67d9fc22-23e1-4a38-87ff-a70751588e15",
   "metadata": {},
   "source": [
    "## Merge"
   ]
  },
  {
   "cell_type": "code",
   "execution_count": 102,
   "id": "2fda002f-9d94-4c19-b177-707d108658cb",
   "metadata": {},
   "outputs": [],
   "source": [
    "mergeDict_1={\"Name\":[\"Mitchell\",\"Cameron\",\"Lily\"],\n",
    "            \"Sports\":[\"Swimming\",\"Golf\",\"Parkour\"],\n",
    "             \n",
    "            }"
   ]
  },
  {
   "cell_type": "code",
   "execution_count": 104,
   "id": "f9c10c03-ec33-4970-ad33-c942643695b0",
   "metadata": {},
   "outputs": [],
   "source": [
    "mergeDataFrame_1=pd.DataFrame(mergeDict_1)"
   ]
  },
  {
   "cell_type": "code",
   "execution_count": 106,
   "id": "bf5c14e5-a923-49c3-bbf0-394fb2bca3cf",
   "metadata": {},
   "outputs": [
    {
     "data": {
      "text/html": [
       "<div>\n",
       "<style scoped>\n",
       "    .dataframe tbody tr th:only-of-type {\n",
       "        vertical-align: middle;\n",
       "    }\n",
       "\n",
       "    .dataframe tbody tr th {\n",
       "        vertical-align: top;\n",
       "    }\n",
       "\n",
       "    .dataframe thead th {\n",
       "        text-align: right;\n",
       "    }\n",
       "</style>\n",
       "<table border=\"1\" class=\"dataframe\">\n",
       "  <thead>\n",
       "    <tr style=\"text-align: right;\">\n",
       "      <th></th>\n",
       "      <th>Name</th>\n",
       "      <th>Sports</th>\n",
       "    </tr>\n",
       "  </thead>\n",
       "  <tbody>\n",
       "    <tr>\n",
       "      <th>0</th>\n",
       "      <td>Mitchell</td>\n",
       "      <td>Swimming</td>\n",
       "    </tr>\n",
       "    <tr>\n",
       "      <th>1</th>\n",
       "      <td>Cameron</td>\n",
       "      <td>Golf</td>\n",
       "    </tr>\n",
       "    <tr>\n",
       "      <th>2</th>\n",
       "      <td>Lily</td>\n",
       "      <td>Parkour</td>\n",
       "    </tr>\n",
       "  </tbody>\n",
       "</table>\n",
       "</div>"
      ],
      "text/plain": [
       "       Name    Sports\n",
       "0  Mitchell  Swimming\n",
       "1   Cameron      Golf\n",
       "2      Lily   Parkour"
      ]
     },
     "execution_count": 106,
     "metadata": {},
     "output_type": "execute_result"
    }
   ],
   "source": [
    "mergeDataFrame_1"
   ]
  },
  {
   "cell_type": "code",
   "execution_count": 110,
   "id": "d58c5a84-7393-4b60-be47-e961447d616c",
   "metadata": {},
   "outputs": [],
   "source": [
    "mergeDict_2={\"Name\":[\"Mitchell\",\"Cameron\",\"Lily\"],\n",
    "            \"Calories\":[356,765,123]\n",
    "            }"
   ]
  },
  {
   "cell_type": "code",
   "execution_count": 114,
   "id": "f10001e8-2db9-474c-898f-80d4361bd521",
   "metadata": {},
   "outputs": [],
   "source": [
    "mergeDataFrame_2=pd.DataFrame(mergeDict_2)"
   ]
  },
  {
   "cell_type": "code",
   "execution_count": 116,
   "id": "09b5f5d2-170e-46d4-8a9f-8d55016e39c9",
   "metadata": {},
   "outputs": [
    {
     "data": {
      "text/html": [
       "<div>\n",
       "<style scoped>\n",
       "    .dataframe tbody tr th:only-of-type {\n",
       "        vertical-align: middle;\n",
       "    }\n",
       "\n",
       "    .dataframe tbody tr th {\n",
       "        vertical-align: top;\n",
       "    }\n",
       "\n",
       "    .dataframe thead th {\n",
       "        text-align: right;\n",
       "    }\n",
       "</style>\n",
       "<table border=\"1\" class=\"dataframe\">\n",
       "  <thead>\n",
       "    <tr style=\"text-align: right;\">\n",
       "      <th></th>\n",
       "      <th>Name</th>\n",
       "      <th>Calories</th>\n",
       "    </tr>\n",
       "  </thead>\n",
       "  <tbody>\n",
       "    <tr>\n",
       "      <th>0</th>\n",
       "      <td>Mitchell</td>\n",
       "      <td>356</td>\n",
       "    </tr>\n",
       "    <tr>\n",
       "      <th>1</th>\n",
       "      <td>Cameron</td>\n",
       "      <td>765</td>\n",
       "    </tr>\n",
       "    <tr>\n",
       "      <th>2</th>\n",
       "      <td>Lily</td>\n",
       "      <td>123</td>\n",
       "    </tr>\n",
       "  </tbody>\n",
       "</table>\n",
       "</div>"
      ],
      "text/plain": [
       "       Name  Calories\n",
       "0  Mitchell       356\n",
       "1   Cameron       765\n",
       "2      Lily       123"
      ]
     },
     "execution_count": 116,
     "metadata": {},
     "output_type": "execute_result"
    }
   ],
   "source": [
    "mergeDataFrame_2"
   ]
  },
  {
   "cell_type": "code",
   "execution_count": 118,
   "id": "90102347-b84c-425e-8e71-2c4d333f98eb",
   "metadata": {},
   "outputs": [
    {
     "data": {
      "text/html": [
       "<div>\n",
       "<style scoped>\n",
       "    .dataframe tbody tr th:only-of-type {\n",
       "        vertical-align: middle;\n",
       "    }\n",
       "\n",
       "    .dataframe tbody tr th {\n",
       "        vertical-align: top;\n",
       "    }\n",
       "\n",
       "    .dataframe thead th {\n",
       "        text-align: right;\n",
       "    }\n",
       "</style>\n",
       "<table border=\"1\" class=\"dataframe\">\n",
       "  <thead>\n",
       "    <tr style=\"text-align: right;\">\n",
       "      <th></th>\n",
       "      <th>Name</th>\n",
       "      <th>Sports</th>\n",
       "      <th>Calories</th>\n",
       "    </tr>\n",
       "  </thead>\n",
       "  <tbody>\n",
       "    <tr>\n",
       "      <th>0</th>\n",
       "      <td>Mitchell</td>\n",
       "      <td>Swimming</td>\n",
       "      <td>356</td>\n",
       "    </tr>\n",
       "    <tr>\n",
       "      <th>1</th>\n",
       "      <td>Cameron</td>\n",
       "      <td>Golf</td>\n",
       "      <td>765</td>\n",
       "    </tr>\n",
       "    <tr>\n",
       "      <th>2</th>\n",
       "      <td>Lily</td>\n",
       "      <td>Parkour</td>\n",
       "      <td>123</td>\n",
       "    </tr>\n",
       "  </tbody>\n",
       "</table>\n",
       "</div>"
      ],
      "text/plain": [
       "       Name    Sports  Calories\n",
       "0  Mitchell  Swimming       356\n",
       "1   Cameron      Golf       765\n",
       "2      Lily   Parkour       123"
      ]
     },
     "execution_count": 118,
     "metadata": {},
     "output_type": "execute_result"
    }
   ],
   "source": [
    "pd.merge(mergeDataFrame_1,mergeDataFrame_2,on=\"Name\")"
   ]
  },
  {
   "cell_type": "code",
   "execution_count": 152,
   "id": "82144046-b906-4ebd-afb0-c643895b8ee9",
   "metadata": {},
   "outputs": [],
   "source": [
    "salaryDict={\"Name\":[\"Lorelai\",\"Rory\",\"Dean\",\"Dave\"],\n",
    "           \"Department\":[\"Software\",\"Sale\",\"Martketing\",\"Software\"],\n",
    "           \"Salary\":[240000,340000,440000,540000]\n",
    "           }"
   ]
  },
  {
   "cell_type": "code",
   "execution_count": 154,
   "id": "14a6ae34-f875-4cdf-8f0d-11706f85aef5",
   "metadata": {},
   "outputs": [],
   "source": [
    "salaryDataFrame=pd.DataFrame(salaryDict)"
   ]
  },
  {
   "cell_type": "code",
   "execution_count": 156,
   "id": "4f0542b1-dfa2-46bf-97e5-6e42be9a5d31",
   "metadata": {},
   "outputs": [
    {
     "data": {
      "text/html": [
       "<div>\n",
       "<style scoped>\n",
       "    .dataframe tbody tr th:only-of-type {\n",
       "        vertical-align: middle;\n",
       "    }\n",
       "\n",
       "    .dataframe tbody tr th {\n",
       "        vertical-align: top;\n",
       "    }\n",
       "\n",
       "    .dataframe thead th {\n",
       "        text-align: right;\n",
       "    }\n",
       "</style>\n",
       "<table border=\"1\" class=\"dataframe\">\n",
       "  <thead>\n",
       "    <tr style=\"text-align: right;\">\n",
       "      <th></th>\n",
       "      <th>Name</th>\n",
       "      <th>Department</th>\n",
       "      <th>Salary</th>\n",
       "    </tr>\n",
       "  </thead>\n",
       "  <tbody>\n",
       "    <tr>\n",
       "      <th>0</th>\n",
       "      <td>Lorelai</td>\n",
       "      <td>Software</td>\n",
       "      <td>240000</td>\n",
       "    </tr>\n",
       "    <tr>\n",
       "      <th>1</th>\n",
       "      <td>Rory</td>\n",
       "      <td>Sale</td>\n",
       "      <td>340000</td>\n",
       "    </tr>\n",
       "    <tr>\n",
       "      <th>2</th>\n",
       "      <td>Dean</td>\n",
       "      <td>Martketing</td>\n",
       "      <td>440000</td>\n",
       "    </tr>\n",
       "    <tr>\n",
       "      <th>3</th>\n",
       "      <td>Dave</td>\n",
       "      <td>Software</td>\n",
       "      <td>540000</td>\n",
       "    </tr>\n",
       "  </tbody>\n",
       "</table>\n",
       "</div>"
      ],
      "text/plain": [
       "      Name  Department  Salary\n",
       "0  Lorelai    Software  240000\n",
       "1     Rory        Sale  340000\n",
       "2     Dean  Martketing  440000\n",
       "3     Dave    Software  540000"
      ]
     },
     "execution_count": 156,
     "metadata": {},
     "output_type": "execute_result"
    }
   ],
   "source": [
    "salaryDataFrame"
   ]
  },
  {
   "cell_type": "code",
   "execution_count": 158,
   "id": "2e007c68-1bb5-494d-9fd8-d8547c832f6f",
   "metadata": {},
   "outputs": [
    {
     "data": {
      "text/plain": [
       "array(['Software', 'Sale', 'Martketing'], dtype=object)"
      ]
     },
     "execution_count": 158,
     "metadata": {},
     "output_type": "execute_result"
    }
   ],
   "source": [
    "salaryDataFrame[\"Department\"].unique()"
   ]
  },
  {
   "cell_type": "code",
   "execution_count": 160,
   "id": "21d2b7d5-70cc-4cd5-b32f-7ec0a4ab6ca0",
   "metadata": {},
   "outputs": [
    {
     "data": {
      "text/plain": [
       "3"
      ]
     },
     "execution_count": 160,
     "metadata": {},
     "output_type": "execute_result"
    }
   ],
   "source": [
    "salaryDataFrame[\"Department\"].nunique()"
   ]
  },
  {
   "cell_type": "code",
   "execution_count": 162,
   "id": "176b7dea-e893-4e50-965a-4a821bce5588",
   "metadata": {},
   "outputs": [
    {
     "data": {
      "text/plain": [
       "Department\n",
       "Software      2\n",
       "Sale          1\n",
       "Martketing    1\n",
       "Name: count, dtype: int64"
      ]
     },
     "execution_count": 162,
     "metadata": {},
     "output_type": "execute_result"
    }
   ],
   "source": [
    "salaryDataFrame[\"Department\"].value_counts()"
   ]
  },
  {
   "cell_type": "code",
   "execution_count": 174,
   "id": "9b4d8f29-2f53-406f-b963-c42d34aa5d3f",
   "metadata": {},
   "outputs": [],
   "source": [
    "def grosstoNet(salary):\n",
    "    return salary*0.66\n"
   ]
  },
  {
   "cell_type": "code",
   "execution_count": 180,
   "id": "36f1d780-572c-4774-bf5d-1a395608e539",
   "metadata": {},
   "outputs": [
    {
     "data": {
      "text/plain": [
       "0    158400.0\n",
       "1    224400.0\n",
       "2    290400.0\n",
       "3    356400.0\n",
       "Name: Salary, dtype: float64"
      ]
     },
     "execution_count": 180,
     "metadata": {},
     "output_type": "execute_result"
    }
   ],
   "source": [
    "salaryDataFrame[\"Salary\"].apply(grosstoNet)"
   ]
  },
  {
   "cell_type": "code",
   "execution_count": 182,
   "id": "3261f242-259a-48d9-aa9c-85fd6ce80947",
   "metadata": {},
   "outputs": [
    {
     "data": {
      "text/html": [
       "<div>\n",
       "<style scoped>\n",
       "    .dataframe tbody tr th:only-of-type {\n",
       "        vertical-align: middle;\n",
       "    }\n",
       "\n",
       "    .dataframe tbody tr th {\n",
       "        vertical-align: top;\n",
       "    }\n",
       "\n",
       "    .dataframe thead th {\n",
       "        text-align: right;\n",
       "    }\n",
       "</style>\n",
       "<table border=\"1\" class=\"dataframe\">\n",
       "  <thead>\n",
       "    <tr style=\"text-align: right;\">\n",
       "      <th></th>\n",
       "      <th>Name</th>\n",
       "      <th>Department</th>\n",
       "      <th>Salary</th>\n",
       "    </tr>\n",
       "  </thead>\n",
       "  <tbody>\n",
       "    <tr>\n",
       "      <th>0</th>\n",
       "      <td>False</td>\n",
       "      <td>False</td>\n",
       "      <td>False</td>\n",
       "    </tr>\n",
       "    <tr>\n",
       "      <th>1</th>\n",
       "      <td>False</td>\n",
       "      <td>False</td>\n",
       "      <td>False</td>\n",
       "    </tr>\n",
       "    <tr>\n",
       "      <th>2</th>\n",
       "      <td>False</td>\n",
       "      <td>False</td>\n",
       "      <td>False</td>\n",
       "    </tr>\n",
       "    <tr>\n",
       "      <th>3</th>\n",
       "      <td>False</td>\n",
       "      <td>False</td>\n",
       "      <td>False</td>\n",
       "    </tr>\n",
       "  </tbody>\n",
       "</table>\n",
       "</div>"
      ],
      "text/plain": [
       "    Name  Department  Salary\n",
       "0  False       False   False\n",
       "1  False       False   False\n",
       "2  False       False   False\n",
       "3  False       False   False"
      ]
     },
     "execution_count": 182,
     "metadata": {},
     "output_type": "execute_result"
    }
   ],
   "source": [
    "salaryDataFrame.isnull()"
   ]
  },
  {
   "cell_type": "code",
   "execution_count": 208,
   "id": "b8d55625-533b-4af7-84bd-d78a2bd0be43",
   "metadata": {},
   "outputs": [],
   "source": [
    "newData={\"Character\":[\"South Park\",\"South Park\",\"Simpson\",\"Simpson\",\"Simpson\"],\n",
    "        \"Character Name\":[\"Cartman\",\"Kenny\",\"Hommer\",\"Bart\",\"Bart\"],\n",
    "         \"Character Age\":[2,36,45,65,67]\n",
    "        }"
   ]
  },
  {
   "cell_type": "code",
   "execution_count": 210,
   "id": "717b5384-34e9-463d-87dd-0e30e21153f1",
   "metadata": {},
   "outputs": [],
   "source": [
    "characterDf=pd.DataFrame(newData)"
   ]
  },
  {
   "cell_type": "code",
   "execution_count": 212,
   "id": "22a35c03-4882-4cc1-ba14-65f15ecb94e1",
   "metadata": {},
   "outputs": [
    {
     "data": {
      "text/html": [
       "<div>\n",
       "<style scoped>\n",
       "    .dataframe tbody tr th:only-of-type {\n",
       "        vertical-align: middle;\n",
       "    }\n",
       "\n",
       "    .dataframe tbody tr th {\n",
       "        vertical-align: top;\n",
       "    }\n",
       "\n",
       "    .dataframe thead th {\n",
       "        text-align: right;\n",
       "    }\n",
       "</style>\n",
       "<table border=\"1\" class=\"dataframe\">\n",
       "  <thead>\n",
       "    <tr style=\"text-align: right;\">\n",
       "      <th></th>\n",
       "      <th>Character</th>\n",
       "      <th>Character Name</th>\n",
       "      <th>Character Age</th>\n",
       "    </tr>\n",
       "  </thead>\n",
       "  <tbody>\n",
       "    <tr>\n",
       "      <th>0</th>\n",
       "      <td>South Park</td>\n",
       "      <td>Cartman</td>\n",
       "      <td>2</td>\n",
       "    </tr>\n",
       "    <tr>\n",
       "      <th>1</th>\n",
       "      <td>South Park</td>\n",
       "      <td>Kenny</td>\n",
       "      <td>36</td>\n",
       "    </tr>\n",
       "    <tr>\n",
       "      <th>2</th>\n",
       "      <td>Simpson</td>\n",
       "      <td>Hommer</td>\n",
       "      <td>45</td>\n",
       "    </tr>\n",
       "    <tr>\n",
       "      <th>3</th>\n",
       "      <td>Simpson</td>\n",
       "      <td>Bart</td>\n",
       "      <td>65</td>\n",
       "    </tr>\n",
       "    <tr>\n",
       "      <th>4</th>\n",
       "      <td>Simpson</td>\n",
       "      <td>Bart</td>\n",
       "      <td>67</td>\n",
       "    </tr>\n",
       "  </tbody>\n",
       "</table>\n",
       "</div>"
      ],
      "text/plain": [
       "    Character Character Name  Character Age\n",
       "0  South Park        Cartman              2\n",
       "1  South Park          Kenny             36\n",
       "2     Simpson         Hommer             45\n",
       "3     Simpson           Bart             65\n",
       "4     Simpson           Bart             67"
      ]
     },
     "execution_count": 212,
     "metadata": {},
     "output_type": "execute_result"
    }
   ],
   "source": [
    "characterDf"
   ]
  },
  {
   "cell_type": "code",
   "execution_count": 218,
   "id": "03517e68-d71b-4331-bb6d-b9f0f993bcf2",
   "metadata": {},
   "outputs": [
    {
     "name": "stderr",
     "output_type": "stream",
     "text": [
      "C:\\Users\\beyra\\AppData\\Local\\Temp\\ipykernel_17240\\3562518070.py:1: FutureWarning: The provided callable <function sum at 0x0000019F9F198CC0> is currently using DataFrameGroupBy.sum. In a future version of pandas, the provided callable will be used directly. To keep current behavior pass the string \"sum\" instead.\n",
      "  characterDf.pivot_table(values=\"Character Age\",index= [\"Character\",\"Character Name\"],aggfunc=np.sum)\n"
     ]
    },
    {
     "data": {
      "text/html": [
       "<div>\n",
       "<style scoped>\n",
       "    .dataframe tbody tr th:only-of-type {\n",
       "        vertical-align: middle;\n",
       "    }\n",
       "\n",
       "    .dataframe tbody tr th {\n",
       "        vertical-align: top;\n",
       "    }\n",
       "\n",
       "    .dataframe thead th {\n",
       "        text-align: right;\n",
       "    }\n",
       "</style>\n",
       "<table border=\"1\" class=\"dataframe\">\n",
       "  <thead>\n",
       "    <tr style=\"text-align: right;\">\n",
       "      <th></th>\n",
       "      <th></th>\n",
       "      <th>Character Age</th>\n",
       "    </tr>\n",
       "    <tr>\n",
       "      <th>Character</th>\n",
       "      <th>Character Name</th>\n",
       "      <th></th>\n",
       "    </tr>\n",
       "  </thead>\n",
       "  <tbody>\n",
       "    <tr>\n",
       "      <th rowspan=\"2\" valign=\"top\">Simpson</th>\n",
       "      <th>Bart</th>\n",
       "      <td>132</td>\n",
       "    </tr>\n",
       "    <tr>\n",
       "      <th>Hommer</th>\n",
       "      <td>45</td>\n",
       "    </tr>\n",
       "    <tr>\n",
       "      <th rowspan=\"2\" valign=\"top\">South Park</th>\n",
       "      <th>Cartman</th>\n",
       "      <td>2</td>\n",
       "    </tr>\n",
       "    <tr>\n",
       "      <th>Kenny</th>\n",
       "      <td>36</td>\n",
       "    </tr>\n",
       "  </tbody>\n",
       "</table>\n",
       "</div>"
      ],
      "text/plain": [
       "                           Character Age\n",
       "Character  Character Name               \n",
       "Simpson    Bart                      132\n",
       "           Hommer                     45\n",
       "South Park Cartman                     2\n",
       "           Kenny                      36"
      ]
     },
     "execution_count": 218,
     "metadata": {},
     "output_type": "execute_result"
    }
   ],
   "source": [
    "characterDf.pivot_table(values=\"Character Age\",index= [\"Character\",\"Character Name\"],aggfunc=np.sum) ##When we use aggfunc, it gives the sum of the values of the same names, if we don't write it, it gives the average"
   ]
  },
  {
   "cell_type": "code",
   "execution_count": null,
   "id": "53400e69-05c7-441d-a6c6-91cff98988b6",
   "metadata": {},
   "outputs": [],
   "source": []
  },
  {
   "cell_type": "code",
   "execution_count": null,
   "id": "0d321240-96f0-46e9-ad57-9643680a1cfd",
   "metadata": {},
   "outputs": [],
   "source": []
  },
  {
   "cell_type": "code",
   "execution_count": null,
   "id": "fe057a6d-9074-4aec-be11-2440587b5ba2",
   "metadata": {},
   "outputs": [],
   "source": []
  }
 ],
 "metadata": {
  "kernelspec": {
   "display_name": "Python 3 (ipykernel)",
   "language": "python",
   "name": "python3"
  },
  "language_info": {
   "codemirror_mode": {
    "name": "ipython",
    "version": 3
   },
   "file_extension": ".py",
   "mimetype": "text/x-python",
   "name": "python",
   "nbconvert_exporter": "python",
   "pygments_lexer": "ipython3",
   "version": "3.12.7"
  }
 },
 "nbformat": 4,
 "nbformat_minor": 5
}
